{
 "cells": [
  {
   "cell_type": "markdown",
   "id": "338325c9",
   "metadata": {},
   "source": [
    "# Digimon Dataset Analysis\n",
    "## Objective\n",
    "Analyze Digimon stats, moves, and team composition strategies"
   ]
  },
  {
   "cell_type": "code",
   "execution_count": 1,
   "id": "b17aad5c",
   "metadata": {},
   "outputs": [],
   "source": [
    "import pandas as pd\n",
    "import matplotlib.pyplot as plt\n",
    "import seaborn as sns\n",
    "\n",
    "digimon = pd.read_csv('DigiDB_digimonlist.csv')\n",
    "moves = pd.read_csv('DigiDB_movelist.csv')\n",
    "support = pd.read_csv('DigiDB_supportlist.csv')"
   ]
  },
  {
   "cell_type": "markdown",
   "id": "a521fadd",
   "metadata": {},
   "source": [
    "## Data Exploration"
   ]
  },
  {
   "cell_type": "code",
   "execution_count": 3,
   "id": "3b3cdda9",
   "metadata": {},
   "outputs": [
    {
     "name": "stdout",
     "output_type": "stream",
     "text": [
      "Digimon Columns: ['Number', 'Digimon', 'Stage', 'Type', 'Attribute', 'Memory', 'Equip Slots', 'Lv 50 HP', 'Lv50 SP', 'Lv50 Atk', 'Lv50 Def', 'Lv50 Int', 'Lv50 Spd']\n",
      "Move Columns: ['Move', 'SP Cost', 'Type', 'Power', 'Attribute', 'Inheritable', 'Description']\n"
     ]
    }
   ],
   "source": [
    "print(\"Digimon Columns:\", digimon.columns.tolist())\n",
    "print(\"Move Columns:\", moves.columns.tolist())"
   ]
  },
  {
   "cell_type": "markdown",
   "id": "a8c36d0f",
   "metadata": {},
   "source": [
    "## Data Cleaning"
   ]
  },
  {
   "cell_type": "code",
   "execution_count": 4,
   "id": "e21a3832",
   "metadata": {},
   "outputs": [],
   "source": [
    "digimon['Attribute'] = digimon['Attribute'].replace({'Thunder': 'Electric'})\n",
    "moves['Attribute'] = moves['Attribute'].replace({'Thunder': 'Electric'})"
   ]
  },
  {
   "cell_type": "markdown",
   "id": "a0745005",
   "metadata": {},
   "source": [
    "## Analysis\n",
    "### a) Best Attack/SP Ratio"
   ]
  },
  {
   "cell_type": "code",
   "execution_count": 5,
   "id": "5e01149b",
   "metadata": {},
   "outputs": [
    {
     "name": "stderr",
     "output_type": "stream",
     "text": [
      "C:\\Users\\norma\\AppData\\Local\\Temp\\ipykernel_26924\\1217834357.py:2: SettingWithCopyWarning: \n",
      "A value is trying to be set on a copy of a slice from a DataFrame.\n",
      "Try using .loc[row_indexer,col_indexer] = value instead\n",
      "\n",
      "See the caveats in the documentation: https://pandas.pydata.org/pandas-docs/stable/user_guide/indexing.html#returning-a-view-versus-a-copy\n",
      "  damage_moves['Power/SP'] = damage_moves['Power'] / damage_moves['SP Cost']\n"
     ]
    },
    {
     "data": {
      "text/html": [
       "<div>\n",
       "<style scoped>\n",
       "    .dataframe tbody tr th:only-of-type {\n",
       "        vertical-align: middle;\n",
       "    }\n",
       "\n",
       "    .dataframe tbody tr th {\n",
       "        vertical-align: top;\n",
       "    }\n",
       "\n",
       "    .dataframe thead th {\n",
       "        text-align: right;\n",
       "    }\n",
       "</style>\n",
       "<table border=\"1\" class=\"dataframe\">\n",
       "  <thead>\n",
       "    <tr style=\"text-align: right;\">\n",
       "      <th></th>\n",
       "      <th>Move</th>\n",
       "      <th>SP Cost</th>\n",
       "      <th>Power</th>\n",
       "      <th>Power/SP</th>\n",
       "    </tr>\n",
       "  </thead>\n",
       "  <tbody>\n",
       "    <tr>\n",
       "      <th>80</th>\n",
       "      <td>Heavy Strike I</td>\n",
       "      <td>3</td>\n",
       "      <td>70</td>\n",
       "      <td>23.333333</td>\n",
       "    </tr>\n",
       "    <tr>\n",
       "      <th>0</th>\n",
       "      <td>Wolkenapalm I</td>\n",
       "      <td>3</td>\n",
       "      <td>65</td>\n",
       "      <td>21.666667</td>\n",
       "    </tr>\n",
       "    <tr>\n",
       "      <th>10</th>\n",
       "      <td>Ice Archery I</td>\n",
       "      <td>3</td>\n",
       "      <td>65</td>\n",
       "      <td>21.666667</td>\n",
       "    </tr>\n",
       "    <tr>\n",
       "      <th>20</th>\n",
       "      <td>Crescent Leaf I</td>\n",
       "      <td>3</td>\n",
       "      <td>65</td>\n",
       "      <td>21.666667</td>\n",
       "    </tr>\n",
       "    <tr>\n",
       "      <th>30</th>\n",
       "      <td>Nanomachine Break I</td>\n",
       "      <td>3</td>\n",
       "      <td>65</td>\n",
       "      <td>21.666667</td>\n",
       "    </tr>\n",
       "  </tbody>\n",
       "</table>\n",
       "</div>"
      ],
      "text/plain": [
       "                   Move  SP Cost  Power   Power/SP\n",
       "80       Heavy Strike I        3     70  23.333333\n",
       "0         Wolkenapalm I        3     65  21.666667\n",
       "10        Ice Archery I        3     65  21.666667\n",
       "20      Crescent Leaf I        3     65  21.666667\n",
       "30  Nanomachine Break I        3     65  21.666667"
      ]
     },
     "metadata": {},
     "output_type": "display_data"
    }
   ],
   "source": [
    "damage_moves = moves[moves['Power'] > 0]\n",
    "damage_moves['Power/SP'] = damage_moves['Power'] / damage_moves['SP Cost']\n",
    "top_moves = damage_moves.nlargest(5, 'Power/SP')\n",
    "display(top_moves[['Move', 'SP Cost', 'Power', 'Power/SP']])"
   ]
  },
  {
   "cell_type": "markdown",
   "id": "d8141fc3",
   "metadata": {},
   "source": [
    "### b) Top 3 Digimon by Stats"
   ]
  },
  {
   "cell_type": "code",
   "execution_count": 6,
   "id": "40177089",
   "metadata": {},
   "outputs": [
    {
     "name": "stdout",
     "output_type": "stream",
     "text": [
      "Top Attackers:\n"
     ]
    },
    {
     "data": {
      "text/html": [
       "<div>\n",
       "<style scoped>\n",
       "    .dataframe tbody tr th:only-of-type {\n",
       "        vertical-align: middle;\n",
       "    }\n",
       "\n",
       "    .dataframe tbody tr th {\n",
       "        vertical-align: top;\n",
       "    }\n",
       "\n",
       "    .dataframe thead th {\n",
       "        text-align: right;\n",
       "    }\n",
       "</style>\n",
       "<table border=\"1\" class=\"dataframe\">\n",
       "  <thead>\n",
       "    <tr style=\"text-align: right;\">\n",
       "      <th></th>\n",
       "      <th>Digimon</th>\n",
       "      <th>Stage</th>\n",
       "      <th>Lv50 Atk</th>\n",
       "    </tr>\n",
       "  </thead>\n",
       "  <tbody>\n",
       "    <tr>\n",
       "      <th>243</th>\n",
       "      <td>Chaosmon</td>\n",
       "      <td>Ultra</td>\n",
       "      <td>318</td>\n",
       "    </tr>\n",
       "    <tr>\n",
       "      <th>235</th>\n",
       "      <td>Belphemon RM</td>\n",
       "      <td>Ultra</td>\n",
       "      <td>247</td>\n",
       "    </tr>\n",
       "    <tr>\n",
       "      <th>195</th>\n",
       "      <td>Diaboromon</td>\n",
       "      <td>Mega</td>\n",
       "      <td>243</td>\n",
       "    </tr>\n",
       "  </tbody>\n",
       "</table>\n",
       "</div>"
      ],
      "text/plain": [
       "          Digimon  Stage  Lv50 Atk\n",
       "243      Chaosmon  Ultra       318\n",
       "235  Belphemon RM  Ultra       247\n",
       "195    Diaboromon   Mega       243"
      ]
     },
     "metadata": {},
     "output_type": "display_data"
    },
    {
     "name": "stdout",
     "output_type": "stream",
     "text": [
      "\n",
      "Top Defenders:\n"
     ]
    },
    {
     "data": {
      "text/html": [
       "<div>\n",
       "<style scoped>\n",
       "    .dataframe tbody tr th:only-of-type {\n",
       "        vertical-align: middle;\n",
       "    }\n",
       "\n",
       "    .dataframe tbody tr th {\n",
       "        vertical-align: top;\n",
       "    }\n",
       "\n",
       "    .dataframe thead th {\n",
       "        text-align: right;\n",
       "    }\n",
       "</style>\n",
       "<table border=\"1\" class=\"dataframe\">\n",
       "  <thead>\n",
       "    <tr style=\"text-align: right;\">\n",
       "      <th></th>\n",
       "      <th>Digimon</th>\n",
       "      <th>Stage</th>\n",
       "      <th>Lv50 Def</th>\n",
       "    </tr>\n",
       "  </thead>\n",
       "  <tbody>\n",
       "    <tr>\n",
       "      <th>181</th>\n",
       "      <td>GroundLocomon</td>\n",
       "      <td>Mega</td>\n",
       "      <td>213</td>\n",
       "    </tr>\n",
       "    <tr>\n",
       "      <th>182</th>\n",
       "      <td>Craniamon</td>\n",
       "      <td>Mega</td>\n",
       "      <td>208</td>\n",
       "    </tr>\n",
       "    <tr>\n",
       "      <th>238</th>\n",
       "      <td>Magnamon</td>\n",
       "      <td>Armor</td>\n",
       "      <td>208</td>\n",
       "    </tr>\n",
       "  </tbody>\n",
       "</table>\n",
       "</div>"
      ],
      "text/plain": [
       "           Digimon  Stage  Lv50 Def\n",
       "181  GroundLocomon   Mega       213\n",
       "182      Craniamon   Mega       208\n",
       "238       Magnamon  Armor       208"
      ]
     },
     "metadata": {},
     "output_type": "display_data"
    }
   ],
   "source": [
    "print(\"Top Attackers:\")\n",
    "display(digimon.nlargest(3, 'Lv50 Atk')[['Digimon', 'Stage', 'Lv50 Atk']])\n",
    "print(\"\\nTop Defenders:\")\n",
    "display(digimon.nlargest(3, 'Lv50 Def')[['Digimon', 'Stage', 'Lv50 Def']])"
   ]
  },
  {
   "cell_type": "markdown",
   "id": "db553e9b",
   "metadata": {},
   "source": [
    "### c) HP vs SP Tradeoff"
   ]
  },
  {
   "cell_type": "code",
   "execution_count": null,
   "id": "bfb9c31d",
   "metadata": {},
   "outputs": [],
   "source": [
    "plt.figure(figsize=(10,6))\n",
    "sns.scatterplot(data=digimon, x='Lv50 HP', y='Lv50 SP')\n",
    "plt.title('HP vs SP Relationship')\n",
    "plt.show()"
   ]
  },
  {
   "cell_type": "markdown",
   "id": "ecffdb61",
   "metadata": {},
   "source": [
    "### d) Type Representation"
   ]
  },
  {
   "cell_type": "code",
   "execution_count": null,
   "id": "f58459c0",
   "metadata": {},
   "outputs": [],
   "source": []
  },
  {
   "cell_type": "code",
   "execution_count": 7,
   "id": "a1dc8de3",
   "metadata": {},
   "outputs": [
    {
     "data": {
      "image/png": "[encoded data removed]",
      "text/plain": [
       "<Figure size 1500x500 with 2 Axes>"
      ]
     },
     "metadata": {},
     "output_type": "display_data"
    }
   ],
   "source": [
    "fig, ax = plt.subplots(1,2, figsize=(15,5))\n",
    "sns.countplot(data=digimon, x='Type', ax=ax[0])\n",
    "sns.countplot(data=digimon, x='Attribute', ax=ax[1])\n",
    "plt.tight_layout()\n",
    "plt.show()"
   ]
  },
  {
   "cell_type": "markdown",
   "id": "07d75780",
   "metadata": {},
   "source": [
    "### e) Stage Distribution"
   ]
  },
  {
   "cell_type": "code",
   "execution_count": 8,
   "id": "0ac7bb5f",
   "metadata": {},
   "outputs": [
    {
     "data": {
      "image/png": "[encoded data removed]",
      "text/plain": [
       "<Figure size 1200x600 with 1 Axes>"
      ]
     },
     "metadata": {},
     "output_type": "display_data"
    }
   ],
   "source": [
    "stage_order = ['Baby', 'In-Training', 'Rookie', 'Champion', 'Ultimate', 'Mega', 'Ultra', 'Armor']\n",
    "plt.figure(figsize=(12,6))\n",
    "sns.countplot(data=digimon, x='Stage', order=stage_order, hue='Type')\n",
    "plt.xticks(rotation=45)\n",
    "plt.show()"
   ]
  }
 ],
 "metadata": {
  "kernelspec": {
   "display_name": "Python 3",
   "language": "python",
   "name": "python3"
  },
  "language_info": {
   "codemirror_mode": {
    "name": "ipython",
    "version": 3
   },
   "file_extension": ".py",
   "mimetype": "text/x-python",
   "name": "python",
   "nbconvert_exporter": "python",
   "pygments_lexer": "ipython3",
   "version": "3.12.4"
  }
 },
 "nbformat": 4,
 "nbformat_minor": 5
}
