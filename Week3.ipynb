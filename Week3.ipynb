{
 "cells": [
  {
   "cell_type": "code",
   "execution_count": 1,
   "metadata": {},
   "outputs": [],
   "source": [
    "import numpy as np"
   ]
  },
  {
   "cell_type": "markdown",
   "metadata": {},
   "source": [
    "# Program 1\n",
    "Generate a 3x4 NumPy array with random integers between 1 and 50."
   ]
  },
  {
   "cell_type": "code",
   "execution_count": 2,
   "metadata": {},
   "outputs": [
    {
     "data": {
      "text/plain": [
       "array([[23,  1, 28, 16],\n",
       "       [37, 13, 33, 22],\n",
       "       [24, 24,  6, 45]], dtype=int32)"
      ]
     },
     "execution_count": 2,
     "metadata": {},
     "output_type": "execute_result"
    }
   ],
   "source": [
    "arr = np.random.randint(1, 50, (3, 4))\n",
    "arr"
   ]
  },
  {
   "cell_type": "markdown",
   "metadata": {},
   "source": [
    "Calculate and print the mean, median, and standard deviation of the array."
   ]
  },
  {
   "cell_type": "code",
   "execution_count": 3,
   "metadata": {},
   "outputs": [
    {
     "name": "stdout",
     "output_type": "stream",
     "text": [
      "22.666666666666668\n",
      "23.5\n",
      "12.002314591592555\n"
     ]
    }
   ],
   "source": [
    "print(np.mean(arr))\n",
    "print(np.median(arr))\n",
    "print(np.std(arr))"
   ]
  },
  {
   "cell_type": "markdown",
   "metadata": {},
   "source": [
    "Print the sum of all elements and the sum of each row."
   ]
  },
  {
   "cell_type": "code",
   "execution_count": 4,
   "metadata": {},
   "outputs": [
    {
     "name": "stdout",
     "output_type": "stream",
     "text": [
      "272\n",
      "[84 38 67 83]\n"
     ]
    }
   ],
   "source": [
    "print(np.sum(arr))\n",
    "print(np.sum(arr, axis=0))"
   ]
  },
  {
   "cell_type": "markdown",
   "metadata": {},
   "source": [
    "Reshape the 3x4 array into a 2x6 array and print it."
   ]
  },
  {
   "cell_type": "code",
   "execution_count": 5,
   "metadata": {},
   "outputs": [
    {
     "name": "stdout",
     "output_type": "stream",
     "text": [
      "[[23  1 28 16 37 13]\n",
      " [33 22 24 24  6 45]]\n"
     ]
    }
   ],
   "source": [
    "print(np.reshape(arr, (2, 6)))"
   ]
  },
  {
   "cell_type": "markdown",
   "metadata": {},
   "source": [
    "# Program 2\n",
    "Create two (3 * 3) matrices using NumPy and print it. Perform and print the results of the following linear algebra operations."
   ]
  },
  {
   "cell_type": "code",
   "execution_count": 6,
   "metadata": {},
   "outputs": [
    {
     "name": "stdout",
     "output_type": "stream",
     "text": [
      "[[28 94 41]\n",
      " [62 79 47]\n",
      " [95 85 52]]\n",
      "\n",
      "[[85 79 30]\n",
      " [94 72 93]\n",
      " [71  2 57]]\n"
     ]
    }
   ],
   "source": [
    "x = np.random.randint(1, 100, (3, 3))\n",
    "y = np.random.randint(1, 100, (3, 3))\n",
    "print(x)\n",
    "print()\n",
    "print(y)"
   ]
  },
  {
   "cell_type": "markdown",
   "metadata": {},
   "source": [
    "Matrix addition"
   ]
  },
  {
   "cell_type": "code",
   "execution_count": 7,
   "metadata": {},
   "outputs": [
    {
     "name": "stdout",
     "output_type": "stream",
     "text": [
      "[[113 173  71]\n",
      " [156 151 140]\n",
      " [166  87 109]]\n"
     ]
    }
   ],
   "source": [
    "print(x + y)"
   ]
  },
  {
   "cell_type": "markdown",
   "metadata": {},
   "source": [
    "Matrix subtraction"
   ]
  },
  {
   "cell_type": "code",
   "execution_count": 8,
   "metadata": {},
   "outputs": [
    {
     "name": "stdout",
     "output_type": "stream",
     "text": [
      "[[-57  15  11]\n",
      " [-32   7 -46]\n",
      " [ 24  83  -5]]\n"
     ]
    }
   ],
   "source": [
    "print(x - y)"
   ]
  },
  {
   "cell_type": "markdown",
   "metadata": {},
   "source": [
    "Matrix multiplication (element-wise and dot product)"
   ]
  },
  {
   "cell_type": "code",
   "execution_count": 9,
   "metadata": {},
   "outputs": [
    {
     "name": "stdout",
     "output_type": "stream",
     "text": [
      "[[14127  9062 11919]\n",
      " [16033 10680 11886]\n",
      " [19757 13729 13719]]\n"
     ]
    }
   ],
   "source": [
    "print(x @ y)"
   ]
  },
  {
   "cell_type": "markdown",
   "metadata": {},
   "source": [
    "Transpose of a matrix"
   ]
  },
  {
   "cell_type": "code",
   "execution_count": 10,
   "metadata": {},
   "outputs": [
    {
     "name": "stdout",
     "output_type": "stream",
     "text": [
      "[[28 62 95]\n",
      " [94 79 85]\n",
      " [41 47 52]]\n",
      "\n",
      "[[85 94 71]\n",
      " [79 72  2]\n",
      " [30 93 57]]\n"
     ]
    }
   ],
   "source": [
    "print(x.T)\n",
    "print()\n",
    "print(y.T)"
   ]
  },
  {
   "cell_type": "markdown",
   "metadata": {},
   "source": [
    "Determinant and inverse (if applicable)"
   ]
  },
  {
   "cell_type": "code",
   "execution_count": 11,
   "metadata": {},
   "outputs": [
    {
     "name": "stdout",
     "output_type": "stream",
     "text": [
      "28182.999999999993\n",
      "\n",
      "283664.9999999997\n",
      "\n",
      "[[ 0.00400951 -0.04978178  0.04183373]\n",
      " [ 0.04403364 -0.08654153  0.0435014 ]\n",
      " [-0.07930313  0.23240961 -0.1283043 ]]\n",
      "\n",
      "[[ 0.01381207 -0.01566284  0.01828565]\n",
      " [ 0.00438898  0.00957115 -0.01792607]\n",
      " [-0.0173585   0.01917403 -0.00460402]]\n"
     ]
    }
   ],
   "source": [
    "print(np.linalg.det(x))\n",
    "print()\n",
    "print(np.linalg.det(y))\n",
    "print()\n",
    "print(np.linalg.inv(x))\n",
    "print()\n",
    "print(np.linalg.inv(y))"
   ]
  }
 ],
 "metadata": {
  "colab": {
   "provenance": []
  },
  "kernelspec": {
   "display_name": "Python 3",
   "language": "python",
   "name": "python3"
  },
  "language_info": {
   "codemirror_mode": {
    "name": "ipython",
    "version": 3
   },
   "file_extension": ".py",
   "mimetype": "text/x-python",
   "name": "python",
   "nbconvert_exporter": "python",
   "pygments_lexer": "ipython3",
   "version": "3.12.4"
  }
 },
 "nbformat": 4,
 "nbformat_minor": 1
}
