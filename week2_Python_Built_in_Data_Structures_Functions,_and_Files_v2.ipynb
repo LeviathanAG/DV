{
  "cells": [
    {
      "cell_type": "markdown",
      "metadata": {
        "id": "TeznF4kNGinj"
      },
      "source": [
        "# Data Visualization\n",
        "# BTech Computer Science Stream , January 2025\n",
        "# Week 2 Python Language Basics - Demonstration Code\n",
        "# Name:Satwik Hegde(PG-08), Reg Number - 240911676 , Date: 24/12/2024\n",
        "# This Notebook demonstrates Python’s workhorse data structures: tuples, lists, dicts, and sets and discuss creating your own reusable Python functions\n",
        "\n",
        "Following naming conventions are used for Python's data structures\n",
        "\n",
        "tuple -tup\n",
        "Sequence-seq\n",
        "list-variablename_list\n",
        "dicts-dict  \n",
        "sets-variablename_set\n",
        "\n",
        "\n"
      ]
    },
    {
      "cell_type": "markdown",
      "metadata": {
        "id": "0_yyYfDMaYnc"
      },
      "source": [
        "# **Data Structures and Sequences**"
      ]
    },
    {
      "cell_type": "markdown",
      "metadata": {
        "id": "dsTmCZc4ICEz"
      },
      "source": [
        "**Tuple**\n",
        "\n",
        "A tuple is a fixed-length, immutable sequence of Python objects."
      ]
    },
    {
      "cell_type": "code",
      "execution_count": null,
      "metadata": {
        "colab": {
          "base_uri": "https://localhost:8080/"
        },
        "id": "4GaeFcaYGinm",
        "outputId": "b25278dd-cdbb-468e-be17-aa2b78d3d1fd"
      },
      "outputs": [
        {
          "data": {
            "text/plain": [
              "(4, 5, 6)"
            ]
          },
          "execution_count": 35,
          "metadata": {},
          "output_type": "execute_result"
        }
      ],
      "source": [
        "tup = (4, 5, 6)\n",
        "tup"
      ]
    },
    {
      "cell_type": "markdown",
      "metadata": {
        "id": "s34RaHakI2Cu"
      },
      "source": [
        "Defining tuples in more complicated expressions, it’s often necessary to enclose the values in parentheses, as in this example of\n",
        "creating a tuple of tuples"
      ]
    },
    {
      "cell_type": "code",
      "execution_count": null,
      "metadata": {
        "colab": {
          "base_uri": "https://localhost:8080/"
        },
        "id": "ojLfoR_AGinn",
        "outputId": "f1051829-96c4-4d5b-94fc-375a03fd8d3b",
        "scrolled": true
      },
      "outputs": [
        {
          "data": {
            "text/plain": [
              "((4, 5, 6), (7, 8, 5))"
            ]
          },
          "execution_count": 36,
          "metadata": {},
          "output_type": "execute_result"
        }
      ],
      "source": [
        "tup = (4, 5, 6), (7, 8, 5)\n",
        "tup"
      ]
    },
    {
      "cell_type": "code",
      "execution_count": null,
      "metadata": {
        "colab": {
          "base_uri": "https://localhost:8080/"
        },
        "id": "K46Pq7UjGinn",
        "outputId": "a957cb42-a68c-4ff8-94fd-c17075bce55d"
      },
      "outputs": [
        {
          "data": {
            "text/plain": [
              "('s', 't', 'r', 'i', 'n', 'g')"
            ]
          },
          "execution_count": 37,
          "metadata": {},
          "output_type": "execute_result"
        }
      ],
      "source": [
        "### convert any sequence or iterator to a tuple by invoking tuple\n",
        "tup = tuple('string')\n",
        "tup"
      ]
    },
    {
      "cell_type": "code",
      "execution_count": null,
      "metadata": {
        "colab": {
          "base_uri": "https://localhost:8080/",
          "height": 36
        },
        "id": "xQpW_1fwGinp",
        "outputId": "e3ec8625-4351-4577-bcb1-ad449947d071"
      },
      "outputs": [
        {
          "data": {
            "application/vnd.google.colaboratory.intrinsic+json": {
              "type": "string"
            },
            "text/plain": [
              "'s'"
            ]
          },
          "execution_count": 21,
          "metadata": {},
          "output_type": "execute_result"
        }
      ],
      "source": [
        "### Elements can be accessed with square brackets [] as with most other sequence types. Sequences are 0-indexed in Python\n",
        "tup[0]"
      ]
    },
    {
      "cell_type": "code",
      "execution_count": null,
      "metadata": {
        "colab": {
          "base_uri": "https://localhost:8080/"
        },
        "id": "yZZ3FuvlGinq",
        "outputId": "52ffda46-d8a4-4d99-bdd0-37175f5b87a7"
      },
      "outputs": [
        {
          "data": {
            "text/plain": [
              "(1, 2, 3)"
            ]
          },
          "execution_count": 39,
          "metadata": {},
          "output_type": "execute_result"
        }
      ],
      "source": [
        "nested_tup = (4, 5, 6), (7, 8),(1,2,3)\n",
        "nested_tup\n",
        "nested_tup[2]\n",
        "#nested_tup[1]"
      ]
    },
    {
      "cell_type": "markdown",
      "metadata": {
        "id": "VIs0Vt0KKELU"
      },
      "source": [
        "***iNote*** : the objects stored in a tuple may be mutable themselves, once the tuple is created it’s not possible to modify which object is stored in each slot."
      ]
    },
    {
      "cell_type": "code",
      "execution_count": null,
      "metadata": {
        "colab": {
          "base_uri": "https://localhost:8080/"
        },
        "id": "hkzaO8e3Ginq",
        "outputId": "2152ce72-18f0-426e-9d13-ee99b4e97de7"
      },
      "outputs": [
        {
          "data": {
            "text/plain": [
              "('foo', [1, 2, 3], True)"
            ]
          },
          "execution_count": 42,
          "metadata": {},
          "output_type": "execute_result"
        }
      ],
      "source": [
        "tup = tuple(['foo', [1, 2, 3], True])\n",
        "#tup[2] = False\n",
        "tup"
      ]
    },
    {
      "cell_type": "code",
      "execution_count": null,
      "metadata": {
        "colab": {
          "base_uri": "https://localhost:8080/"
        },
        "id": "PepwiJ1cGinr",
        "outputId": "93ac4f47-841b-49a5-dd45-8773190e2e8e"
      },
      "outputs": [
        {
          "data": {
            "text/plain": [
              "('foo', [1, 2, 3, 4], True)"
            ]
          },
          "execution_count": 43,
          "metadata": {},
          "output_type": "execute_result"
        }
      ],
      "source": [
        "### If an object inside a tuple is mutable, such as a list, you can modify it in place\n",
        "tup[1].append(4)\n",
        "tup"
      ]
    },
    {
      "cell_type": "code",
      "execution_count": null,
      "metadata": {
        "colab": {
          "base_uri": "https://localhost:8080/"
        },
        "id": "vYBFEU_QGint",
        "outputId": "ed9c0716-fa99-43fd-a5bf-133d3253c727"
      },
      "outputs": [
        {
          "data": {
            "text/plain": [
              "(4, None, 'foo', 6, 0, 'bar', 1, 2, 3)"
            ]
          },
          "execution_count": 51,
          "metadata": {},
          "output_type": "execute_result"
        }
      ],
      "source": [
        "### You can concatenate tuples using the + operator to produce longer tuples\n",
        "(4, None, 'foo') + (6, 0) + ('bar',)+ (1,2,3)"
      ]
    },
    {
      "cell_type": "code",
      "execution_count": null,
      "metadata": {
        "colab": {
          "base_uri": "https://localhost:8080/"
        },
        "id": "aXq_dgkzGint",
        "outputId": "f8bd7afa-bbd7-4f54-d5a4-9435cd8c4a48"
      },
      "outputs": [
        {
          "data": {
            "text/plain": [
              "('foo', 'bar', 'foo', 'bar', 'foo', 'bar', 'foo', 'bar')"
            ]
          },
          "execution_count": 26,
          "metadata": {},
          "output_type": "execute_result"
        }
      ],
      "source": [
        "### Multiplying a tuple by an integer, as with lists, has the effect of concatenating together that many copies of the tuple\n",
        "('foo', 'bar') * 4"
      ]
    },
    {
      "cell_type": "code",
      "execution_count": null,
      "metadata": {
        "colab": {
          "base_uri": "https://localhost:8080/"
        },
        "id": "R-D538ogGint",
        "outputId": "59606af7-b35e-49bd-cf1a-0a07dbe43de4"
      },
      "outputs": [
        {
          "data": {
            "text/plain": [
              "6"
            ]
          },
          "execution_count": 53,
          "metadata": {},
          "output_type": "execute_result"
        }
      ],
      "source": [
        "### Unpacking tuples: If you try to assign to a tuple-like expression of variables, Python will attempt to unpack the value on the\n",
        "### righthand side of the equals sign\n",
        "\n",
        "tup = (4, 5, 6)\n",
        "a, b, c = tup\n",
        "c"
      ]
    },
    {
      "cell_type": "code",
      "execution_count": null,
      "metadata": {
        "colab": {
          "base_uri": "https://localhost:8080/"
        },
        "id": "6td3dLc8Ginu",
        "outputId": "932c8c84-ced0-4d82-e1d6-f3e8d8d6494d"
      },
      "outputs": [
        {
          "data": {
            "text/plain": [
              "4"
            ]
          },
          "execution_count": 54,
          "metadata": {},
          "output_type": "execute_result"
        }
      ],
      "source": [
        "### Sequences with nested tuples can be unpacked\n",
        "tup = 4, 5, (6, 7)\n",
        "a, b, (c, d) = tup\n",
        "a"
      ]
    },
    {
      "cell_type": "code",
      "execution_count": null,
      "metadata": {
        "colab": {
          "base_uri": "https://localhost:8080/"
        },
        "id": "f2pwptNBGinu",
        "outputId": "ea3295fc-c11b-4940-c449-05a32dc4673a"
      },
      "outputs": [
        {
          "name": "stdout",
          "output_type": "stream",
          "text": [
            "2 1\n"
          ]
        }
      ],
      "source": [
        "### Using this functionality you can easily swap variables\n",
        "a, b = 1, 2\n",
        "a\n",
        "b\n",
        "b, a = a, b\n",
        "print (a , b)"
      ]
    },
    {
      "cell_type": "code",
      "execution_count": null,
      "metadata": {
        "colab": {
          "base_uri": "https://localhost:8080/"
        },
        "id": "i_dzTaAVGinu",
        "outputId": "2943d96a-b67f-40de-ae68-4b0d8331ac4c"
      },
      "outputs": [
        {
          "name": "stdout",
          "output_type": "stream",
          "text": [
            "a=1, b=2, c=3\n",
            "a=4, b=5, c=6\n",
            "a=7, b=8, c=9\n"
          ]
        }
      ],
      "source": [
        "### A common use of variable unpacking is iterating over sequences of tuples or lists\n",
        "seq = [(1, 2, 3), (4, 5, 6), (7, 8, 9)]\n",
        "for a, b, c in seq:\n",
        "    print(f'a={a}, b={b}, c={c}')"
      ]
    },
    {
      "cell_type": "code",
      "execution_count": null,
      "metadata": {
        "colab": {
          "base_uri": "https://localhost:8080/"
        },
        "id": "DXcNPvyLGinv",
        "outputId": "ad678956-e6ab-48b7-a303-c881a20cc7cc"
      },
      "outputs": [
        {
          "data": {
            "text/plain": [
              "[3, 4, 5]"
            ]
          },
          "execution_count": 59,
          "metadata": {},
          "output_type": "execute_result"
        }
      ],
      "source": [
        "### more advanced tuple unpacking to help with situations where you may want to “pluck” a few elements from the beginning of a tuple.\n",
        "### This uses the special syntax *rest, which is also used in function signatures to capture an arbitrarily long list of positional arguments\n",
        "values = 1, 2, 3, 4, 5\n",
        "a, b, *rest = values\n",
        "a\n",
        "b\n",
        "rest"
      ]
    },
    {
      "cell_type": "code",
      "execution_count": null,
      "metadata": {
        "colab": {
          "base_uri": "https://localhost:8080/"
        },
        "id": "4H8-eKcQGinv",
        "outputId": "4a10db23-ca2e-4012-87ca-051dfe8f7018"
      },
      "outputs": [
        {
          "data": {
            "text/plain": [
              "1"
            ]
          },
          "execution_count": 62,
          "metadata": {},
          "output_type": "execute_result"
        }
      ],
      "source": [
        "### This rest bit is sometimes something you want to discard; there is nothing special about the rest name.\n",
        "### As a matter of convention, many Python programmers will use the underscore (_) for unwanted variables\n",
        "\n",
        "a, b, *_ = values\n",
        "a"
      ]
    },
    {
      "cell_type": "markdown",
      "metadata": {
        "id": "BIC9HcztPvFM"
      },
      "source": [
        "**Tuple methods**\n",
        "\n",
        "Since the size and contents of a tuple cannot be modified, it is very light on instance methods."
      ]
    },
    {
      "cell_type": "code",
      "execution_count": null,
      "metadata": {
        "colab": {
          "base_uri": "https://localhost:8080/"
        },
        "id": "FqBigA3EGinw",
        "outputId": "89cad21f-4e2c-4a7f-8d5e-fa96409f45b8"
      },
      "outputs": [
        {
          "data": {
            "text/plain": [
              "4"
            ]
          },
          "execution_count": 33,
          "metadata": {},
          "output_type": "execute_result"
        }
      ],
      "source": [
        "### A useful method (also available on lists) is count, which counts the number of occurrences of a value.\n",
        "a = (1, 2, 2, 2, 3, 4, 2)\n",
        "a.count(2)"
      ]
    },
    {
      "cell_type": "markdown",
      "metadata": {
        "id": "KEdwr6otQvCd"
      },
      "source": [
        "# **Lists**\n",
        "Lists are variable-length and their contents can be modified in-place.\n",
        "You can define them using square brackets [] or using the list type function."
      ]
    },
    {
      "cell_type": "code",
      "execution_count": null,
      "metadata": {
        "colab": {
          "base_uri": "https://localhost:8080/"
        },
        "id": "43M4HTHVGinw",
        "outputId": "a81ab9f9-daa3-4e0d-b2d1-64a745c85172"
      },
      "outputs": [
        {
          "data": {
            "text/plain": [
              "['foo', 'peekaboo', 'baz']"
            ]
          },
          "execution_count": 67,
          "metadata": {},
          "output_type": "execute_result"
        }
      ],
      "source": [
        "a_list = [2, 3, 7, None]\n",
        "a_list\n",
        "\n",
        "tup = (\"foo\", \"bar\", \"baz\")\n",
        "tup\n",
        "b_list = list(tup)\n",
        "b_list\n",
        "b_list[1] = \"peekaboo\"\n",
        "b_list"
      ]
    },
    {
      "cell_type": "markdown",
      "metadata": {
        "id": "5L_ZOapgRgn7"
      },
      "source": [
        "***iNote*** :Lists and tuples are semantically similar (though tuples cannot be modified) and can be used interchangeably in many functions."
      ]
    },
    {
      "cell_type": "code",
      "execution_count": null,
      "metadata": {
        "colab": {
          "base_uri": "https://localhost:8080/"
        },
        "id": "gbKZGRovGinw",
        "outputId": "9669a716-0be7-4718-dcca-d601e2573e5c"
      },
      "outputs": [
        {
          "data": {
            "text/plain": [
              "[0, 1, 2, 3, 4, 5, 6, 7, 8, 9]"
            ]
          },
          "execution_count": 40,
          "metadata": {},
          "output_type": "execute_result"
        }
      ],
      "source": [
        "### The list function is frequently used in data processing as a way to materialize an iterator or generator expression\n",
        "gen = range(10)\n",
        "gen\n",
        "list(gen)"
      ]
    },
    {
      "cell_type": "markdown",
      "metadata": {
        "id": "7sLfwTiRR9N6"
      },
      "source": [
        "**Adding and removing elements**"
      ]
    },
    {
      "cell_type": "code",
      "execution_count": null,
      "metadata": {
        "colab": {
          "base_uri": "https://localhost:8080/"
        },
        "id": "3AnuKsizGinx",
        "outputId": "aaa75251-2266-4402-923e-a57271c9fe5a"
      },
      "outputs": [
        {
          "data": {
            "text/plain": [
              "['foo', 'peekaboo', 'baz', 'dwarf']"
            ]
          },
          "execution_count": 69,
          "metadata": {},
          "output_type": "execute_result"
        }
      ],
      "source": [
        "### Elements can be appended to the end of the list with the append method\n",
        "b_list.append(\"dwarf\")\n",
        "b_list"
      ]
    },
    {
      "cell_type": "code",
      "execution_count": null,
      "metadata": {
        "colab": {
          "base_uri": "https://localhost:8080/"
        },
        "id": "YqtRaKzkGinx",
        "outputId": "b0fa86e1-7771-4c08-ba66-2d403c92567a"
      },
      "outputs": [
        {
          "data": {
            "text/plain": [
              "['foo', 'red', 'peekaboo', 'baz', 'dwarf']"
            ]
          },
          "execution_count": 71,
          "metadata": {},
          "output_type": "execute_result"
        }
      ],
      "source": [
        "### Using insert you can insert an element at a specific location in the list, the insertion index must be between 0 and the length of the list, inclusive\n",
        "b_list.insert(1, \"red\")\n",
        "b_list\n"
      ]
    },
    {
      "cell_type": "markdown",
      "metadata": {
        "id": "Q6JpiULSVrOH"
      },
      "source": [
        "***iNote*** : ***insert*** is computationally expensive compared with append, because references to subsequent elements have to be shifted internally to make room for the new element.\n",
        "\n",
        "If you need to insert elements at both the beginning and end of a sequence, you may explore ***collections.deque***, a double-ended queue,for this purpose."
      ]
    },
    {
      "cell_type": "code",
      "execution_count": null,
      "metadata": {
        "colab": {
          "base_uri": "https://localhost:8080/"
        },
        "id": "g11H7hpsGiny",
        "outputId": "9d56bdfb-01f3-4f05-fb32-639d7b395537"
      },
      "outputs": [
        {
          "data": {
            "text/plain": [
              "['foo', 'red', 'baz', 'dwarf']"
            ]
          },
          "execution_count": 73,
          "metadata": {},
          "output_type": "execute_result"
        }
      ],
      "source": [
        "### The inverse operation to insert is pop, which removes and returns an element at a particular index\n",
        "b_list.pop(2)\n",
        "b_list"
      ]
    },
    {
      "cell_type": "code",
      "execution_count": null,
      "metadata": {
        "colab": {
          "background_save": true,
          "base_uri": "https://localhost:8080/"
        },
        "id": "ZYOrOtqkGin6",
        "outputId": "ab9051ed-1995-4170-c2a3-3edf370d266f"
      },
      "outputs": [
        {
          "data": {
            "text/plain": [
              "['foo', 'red', 'baz', 'dwarf', 'foo']"
            ]
          },
          "execution_count": 75,
          "metadata": {},
          "output_type": "execute_result"
        }
      ],
      "source": [
        "### Elements can be removed by value with remove, which locates the first such value and removes it from the list\n",
        "##b_list.append(\"foo\")\n",
        "b_list.remove(\"foo\")\n",
        "b_list"
      ]
    },
    {
      "cell_type": "markdown",
      "metadata": {
        "id": "RwJUm_E5WqW7"
      },
      "source": [
        "***iNote*** :If performance is not a concern, by using ***append*** and ***remove***, you can use a Python list as a set-like data structure"
      ]
    },
    {
      "cell_type": "code",
      "execution_count": null,
      "metadata": {
        "colab": {
          "base_uri": "https://localhost:8080/"
        },
        "id": "Gw3ayl4SGin6",
        "outputId": "bdb1b5c9-880a-4c73-ea76-6d897e096f59"
      },
      "outputs": [
        {
          "data": {
            "text/plain": [
              "True"
            ]
          },
          "execution_count": 46,
          "metadata": {},
          "output_type": "execute_result"
        }
      ],
      "source": [
        "### We can Check if a list contains a value using the in keyword\n",
        "\"dwarf\" in b_list"
      ]
    },
    {
      "cell_type": "code",
      "execution_count": null,
      "metadata": {
        "colab": {
          "base_uri": "https://localhost:8080/"
        },
        "id": "FQ9S8n9JGin7",
        "outputId": "aec71b39-1ce8-4e8f-93b7-44140b2ab749"
      },
      "outputs": [
        {
          "data": {
            "text/plain": [
              "False"
            ]
          },
          "execution_count": 47,
          "metadata": {},
          "output_type": "execute_result"
        }
      ],
      "source": [
        "### The keyword not can be used to negate in\n",
        "\"dwarf\" not in b_list"
      ]
    },
    {
      "cell_type": "markdown",
      "metadata": {
        "id": "OjMMuiwsXTZ_"
      },
      "source": [
        "***iNote*** : Checking whether a list contains a value is a lot slower than doing so with dicts and sets , as Python makes a linear scan\n",
        "across the values of the list, whereas it can check the others (based on hash tables) in constant time."
      ]
    },
    {
      "cell_type": "markdown",
      "metadata": {
        "id": "ahbTcQEZXmSP"
      },
      "source": [
        "**Concatenating and combining lists**"
      ]
    },
    {
      "cell_type": "code",
      "execution_count": null,
      "metadata": {
        "colab": {
          "base_uri": "https://localhost:8080/"
        },
        "id": "xkLytjtlGin7",
        "outputId": "95728d83-9f8f-4e9d-cbca-3f419b421c89"
      },
      "outputs": [
        {
          "data": {
            "text/plain": [
              "[4, None, 'foo', 7, 8, (2, 3)]"
            ]
          },
          "execution_count": 48,
          "metadata": {},
          "output_type": "execute_result"
        }
      ],
      "source": [
        "### Similar to tuples, adding two lists together with + concatenates them\n",
        "[4, None, \"foo\"] + [7, 8, (2, 3)]"
      ]
    },
    {
      "cell_type": "code",
      "execution_count": null,
      "metadata": {
        "colab": {
          "base_uri": "https://localhost:8080/"
        },
        "id": "ko4Fec7qGin8",
        "outputId": "6c9904f4-9de1-43c5-df8c-769bab84fe39"
      },
      "outputs": [
        {
          "data": {
            "text/plain": [
              "[4, None, 'foo', 7, 8, (2, 3)]"
            ]
          },
          "execution_count": 49,
          "metadata": {},
          "output_type": "execute_result"
        }
      ],
      "source": [
        "### You can append multiple elements to a list already defined, using the extend method\n",
        "x = [4, None, \"foo\"]\n",
        "x.extend([7, 8, (2, 3)])\n",
        "x"
      ]
    },
    {
      "cell_type": "markdown",
      "metadata": {
        "id": "J1RjAEh_YLwW"
      },
      "source": [
        "**Sorting**"
      ]
    },
    {
      "cell_type": "code",
      "execution_count": null,
      "metadata": {
        "colab": {
          "base_uri": "https://localhost:8080/"
        },
        "id": "-_9TlMmUGin8",
        "outputId": "83aa04e7-417b-4ebe-ee34-62496942c92e"
      },
      "outputs": [
        {
          "data": {
            "text/plain": [
              "[1, 2, 3, 5, 7]"
            ]
          },
          "execution_count": 58,
          "metadata": {},
          "output_type": "execute_result"
        }
      ],
      "source": [
        "### sort a list in-place (without creating a new object) by calling its sort function\n",
        "a = [7, 2, 5, 1, 3]\n",
        "a.sort()\n",
        "a"
      ]
    },
    {
      "cell_type": "code",
      "execution_count": null,
      "metadata": {
        "colab": {
          "base_uri": "https://localhost:8080/"
        },
        "id": "Rznlmk9BGin8",
        "outputId": "b0b05a78-5127-4773-ef0c-8e57faa255bc"
      },
      "outputs": [
        {
          "data": {
            "text/plain": [
              "['He', 'saw', 'six', 'small', 'foxes']"
            ]
          },
          "execution_count": 53,
          "metadata": {},
          "output_type": "execute_result"
        }
      ],
      "source": [
        "### sort using secondary sort key\n",
        "b = [\"saw\", \"small\", \"He\", \"foxes\", \"six\"]\n",
        "b.sort(key=len)\n",
        "#b.sort(key=lambda x: x[1])\n",
        "b"
      ]
    },
    {
      "cell_type": "markdown",
      "metadata": {
        "id": "DEqLIet6bBfU"
      },
      "source": [
        "**Slicing**"
      ]
    },
    {
      "cell_type": "code",
      "execution_count": null,
      "metadata": {
        "colab": {
          "base_uri": "https://localhost:8080/"
        },
        "id": "QsmacVsIGin9",
        "outputId": "06004314-e65a-4284-a4ea-9c2f3e3b43a8"
      },
      "outputs": [
        {
          "data": {
            "text/plain": [
              "[2, 3, 7, 5]"
            ]
          },
          "execution_count": 6,
          "metadata": {},
          "output_type": "execute_result"
        }
      ],
      "source": [
        "### select sections of most sequence types by using slice notation, which in its basic form consists of start:stop passed to the indexing operator []\n",
        "seq = [7, 2, 3, 7, 5, 6, 0, 1]\n",
        "seq[1:5]"
      ]
    },
    {
      "cell_type": "code",
      "execution_count": null,
      "metadata": {
        "colab": {
          "base_uri": "https://localhost:8080/"
        },
        "id": "6KEPK1MyGin9",
        "outputId": "d6284c98-91e8-4625-b7ef-e631b2c546da"
      },
      "outputs": [
        {
          "data": {
            "text/plain": [
              "[7, 2, 3, 6, 3, 6, 0, 1]"
            ]
          },
          "execution_count": 10,
          "metadata": {},
          "output_type": "execute_result"
        }
      ],
      "source": [
        "### Slices can also be assigned to with a sequence\n",
        "seq[3:5] = [6, 3]\n",
        "seq"
      ]
    },
    {
      "cell_type": "code",
      "execution_count": null,
      "metadata": {
        "colab": {
          "base_uri": "https://localhost:8080/"
        },
        "id": "4uKvM7YnGin9",
        "outputId": "7cf08fa6-ca44-49d9-9904-1c82a99edafe"
      },
      "outputs": [
        {
          "data": {
            "text/plain": [
              "[6, 3, 6, 0, 1]"
            ]
          },
          "execution_count": 12,
          "metadata": {},
          "output_type": "execute_result"
        }
      ],
      "source": [
        "### Either the start or stop can be omitted, in which case they default to the start of the sequence and the end of the sequence, respectively\n",
        "seq[:5]\n",
        "#seq[3:]\n"
      ]
    },
    {
      "cell_type": "code",
      "execution_count": null,
      "metadata": {
        "colab": {
          "base_uri": "https://localhost:8080/"
        },
        "id": "QHfu-uD0Gin-",
        "outputId": "e5bd315e-fe6c-4243-a58f-518aae375dd7"
      },
      "outputs": [
        {
          "data": {
            "text/plain": [
              "[3, 6, 3, 6]"
            ]
          },
          "execution_count": 14,
          "metadata": {},
          "output_type": "execute_result"
        }
      ],
      "source": [
        "### Negative indices slice the sequence relative to the end\n",
        "#seq[-4:]\n",
        "seq[-6:-2]"
      ]
    },
    {
      "cell_type": "markdown",
      "metadata": {
        "id": "w9Ty5KezRS25"
      },
      "source": [
        "**Slicing semantics**"
      ]
    },
    {
      "cell_type": "code",
      "execution_count": null,
      "metadata": {
        "colab": {
          "base_uri": "https://localhost:8080/"
        },
        "id": "C9PBUieiGin-",
        "outputId": "6da356bc-5794-4a6b-9012-f72890a99def"
      },
      "outputs": [
        {
          "data": {
            "text/plain": [
              "[7, 3, 3, 0]"
            ]
          },
          "execution_count": 15,
          "metadata": {},
          "output_type": "execute_result"
        }
      ],
      "source": [
        "### A step can also be used after a second colon to, say, take every other element\n",
        "seq[::2]"
      ]
    },
    {
      "cell_type": "code",
      "execution_count": null,
      "metadata": {
        "colab": {
          "base_uri": "https://localhost:8080/"
        },
        "id": "PurK0eCyGin-",
        "outputId": "612d3610-6803-4dec-f37a-4940cc434588"
      },
      "outputs": [
        {
          "data": {
            "text/plain": [
              "[1, 0, 6, 3, 6, 3, 2, 7]"
            ]
          },
          "execution_count": 16,
          "metadata": {},
          "output_type": "execute_result"
        }
      ],
      "source": [
        "### pass -1, which has the useful effect of reversing a list or tuple\n",
        "seq[::-1]"
      ]
    },
    {
      "cell_type": "markdown",
      "metadata": {
        "id": "4Xl_Og-DSNQm"
      },
      "source": [
        "# **Dictionary** : dict\n",
        "\n",
        "A ***dict*** is an unordered collection of key-value pairs,where key and value are Python objects.\n",
        "Each key is associated with a value so that a value can be conveniently retrieved, inserted, modified, or deleted given a particular key.\n"
      ]
    },
    {
      "cell_type": "code",
      "execution_count": null,
      "metadata": {
        "colab": {
          "base_uri": "https://localhost:8080/"
        },
        "id": "CNBNRWx3Gin_",
        "outputId": "58d6af5d-c0a0-431e-e058-844c36d58ec0"
      },
      "outputs": [
        {
          "data": {
            "text/plain": [
              "{'a': 'some value', 'b': [1, 2, 3, 4]}"
            ]
          },
          "execution_count": 19,
          "metadata": {},
          "output_type": "execute_result"
        }
      ],
      "source": [
        "### Creating one dict is to use curly braces {} and colons to separate keys and values.\n",
        "empty_dict = {}\n",
        "#empty_dict\n",
        "d1 = {\"a\": \"some value\", \"b\": [1, 2, 3, 4]}\n",
        "d1"
      ]
    },
    {
      "cell_type": "code",
      "execution_count": null,
      "metadata": {
        "colab": {
          "base_uri": "https://localhost:8080/"
        },
        "id": "N722KWzoGin_",
        "outputId": "26b548c5-1a1a-4710-806d-423a57c03b6d"
      },
      "outputs": [
        {
          "data": {
            "text/plain": [
              "[1, 2, 3, 4]"
            ]
          },
          "execution_count": 21,
          "metadata": {},
          "output_type": "execute_result"
        }
      ],
      "source": [
        "### You can access, insert, or set elements using the same syntax as for accessing elements of a list or tuple\n",
        "d1[7] = \"an integer\"\n",
        "d1\n",
        "d1[\"b\"]"
      ]
    },
    {
      "cell_type": "code",
      "execution_count": null,
      "metadata": {
        "colab": {
          "base_uri": "https://localhost:8080/"
        },
        "id": "EObyii52Gin_",
        "outputId": "3af01629-0479-47aa-e7df-e697ec7bf694"
      },
      "outputs": [
        {
          "data": {
            "text/plain": [
              "False"
            ]
          },
          "execution_count": 23,
          "metadata": {},
          "output_type": "execute_result"
        }
      ],
      "source": [
        "### You can check if a dict contains a key using the same syntax used for checking whether a list or tuple contains a value\n",
        "\"c\" in d1"
      ]
    },
    {
      "cell_type": "code",
      "execution_count": null,
      "metadata": {
        "colab": {
          "base_uri": "https://localhost:8080/"
        },
        "id": "Pu8QBNKGGin_",
        "outputId": "e981461b-9a80-4bee-cd13-294bcf070a08"
      },
      "outputs": [
        {
          "data": {
            "text/plain": [
              "{'a': 'some value', 'b': [1, 2, 3, 4], 7: 'an integer'}"
            ]
          },
          "execution_count": 28,
          "metadata": {},
          "output_type": "execute_result"
        }
      ],
      "source": [
        "### You can delete values either using the del keyword or the pop method (which simultaneously returns the value and deletes the key)\n",
        "d1[5] = \"some value\"\n",
        "d1\n",
        "d1[\"dummy\"] = \"another value\"\n",
        "d1\n",
        "del d1[5]\n",
        "d1\n",
        "ret = d1.pop(\"dummy\")\n",
        "ret\n",
        "d1"
      ]
    },
    {
      "cell_type": "code",
      "execution_count": null,
      "metadata": {
        "colab": {
          "base_uri": "https://localhost:8080/"
        },
        "id": "m8jnvhQsGioA",
        "outputId": "1c4e3365-028d-405a-8a1a-32cc10831404"
      },
      "outputs": [
        {
          "data": {
            "text/plain": [
              "['a', 'b', 7]"
            ]
          },
          "execution_count": 30,
          "metadata": {},
          "output_type": "execute_result"
        }
      ],
      "source": [
        "### The keys and values method give you iterators of the dict’s keys and values, respectively.\n",
        "### The order of the keys depends on the order of their insertion, and these functions output the keys and values in the same respective order\n",
        "list(d1.keys())\n",
        "#list(d1.values())"
      ]
    },
    {
      "cell_type": "code",
      "execution_count": null,
      "metadata": {
        "colab": {
          "base_uri": "https://localhost:8080/"
        },
        "id": "fn3tawXZGioA",
        "outputId": "fc7bdc04-9fa5-4dc1-b5ca-e1957e1fe085"
      },
      "outputs": [
        {
          "data": {
            "text/plain": [
              "[('a', 'some value'), ('b', [1, 2, 3, 4]), (7, 'an integer')]"
            ]
          },
          "execution_count": 31,
          "metadata": {},
          "output_type": "execute_result"
        }
      ],
      "source": [
        "list(d1.items())"
      ]
    },
    {
      "cell_type": "code",
      "execution_count": null,
      "metadata": {
        "colab": {
          "base_uri": "https://localhost:8080/"
        },
        "id": "PsQA10lmGioA",
        "outputId": "6ef9f900-deda-4e78-a3fb-5810bf213e84"
      },
      "outputs": [
        {
          "data": {
            "text/plain": [
              "{'a': 'some value', 'b': 'foo', 7: 'an integer', 'c': 12}"
            ]
          },
          "execution_count": 32,
          "metadata": {},
          "output_type": "execute_result"
        }
      ],
      "source": [
        "### You can merge one dict into another using the update method\n",
        "d1.update({\"b\": \"foo\", \"c\": 12})\n",
        "d1"
      ]
    },
    {
      "cell_type": "markdown",
      "metadata": {
        "id": "dgjQqQDXVfac"
      },
      "source": [
        "**Creating dicts from sequences**"
      ]
    },
    {
      "cell_type": "code",
      "execution_count": null,
      "metadata": {
        "colab": {
          "base_uri": "https://localhost:8080/"
        },
        "id": "B-RlbUaYVwLU",
        "outputId": "c125ad77-2c95-4ba1-95f9-a155f0508e2d"
      },
      "outputs": [
        {
          "data": {
            "text/plain": [
              "{0: 4, 1: 3, 2: 2, 3: 1, 4: 0}"
            ]
          },
          "execution_count": 1,
          "metadata": {},
          "output_type": "execute_result"
        }
      ],
      "source": [
        "### two sequences that you want to pair up element-wise in a dict\n",
        "list(range(5))\n",
        "list(reversed(range(5)))\n",
        "tuples = zip(range(5), reversed(range(5)))\n",
        "dict(tuples)"
      ]
    },
    {
      "cell_type": "markdown",
      "metadata": {
        "id": "JfkDpfQMYHjO"
      },
      "source": [
        "**Default values**"
      ]
    },
    {
      "cell_type": "code",
      "execution_count": 17,
      "metadata": {
        "colab": {
          "base_uri": "https://localhost:8080/"
        },
        "id": "-mftyCc_GioB",
        "outputId": "a66edf21-c1cc-42dc-dd35-3ee58a67c250"
      },
      "outputs": [
        {
          "name": "stdout",
          "output_type": "stream",
          "text": [
            "not found\n"
          ]
        }
      ],
      "source": [
        "some_dict ={'a' : 'some value', 'b' : [1, 2, 3, 4]}\n",
        "key='c'  # Replace with the key you want to check\n",
        "default_value = 'not found' # Replace with your desired default value\n",
        "if key in some_dict:\n",
        "  value = some_dict[key]\n",
        "else:\n",
        "  value = default_value\n",
        "\n",
        "print(value)"
      ]
    },
    {
      "cell_type": "code",
      "execution_count": 22,
      "metadata": {
        "colab": {
          "base_uri": "https://localhost:8080/"
        },
        "id": "V0aF3Z6Gay_X",
        "outputId": "ee8099a0-2829-4358-bf49-3c438198d513"
      },
      "outputs": [
        {
          "name": "stdout",
          "output_type": "stream",
          "text": [
            "not found\n"
          ]
        }
      ],
      "source": [
        "### the dict methods get and pop can take a default value to be returned\n",
        "\n",
        "key='c'\n",
        "value = some_dict.get(key, default_value)\n",
        "\n",
        "print(value)"
      ]
    },
    {
      "cell_type": "markdown",
      "metadata": {
        "id": "1PvLWg0zhHxg"
      },
      "source": [
        "***get*** by default will return None if the key is not present, while ***pop*** will\n",
        "raise an exception. With setting values, it may be that the values in a dict\n",
        "are another kind of collection, like a list. For example, you could imagine\n",
        "categorizing a list of words by their first letters as a dict of lists"
      ]
    },
    {
      "cell_type": "code",
      "execution_count": 3,
      "metadata": {
        "colab": {
          "base_uri": "https://localhost:8080/"
        },
        "id": "gXWCr_q2GioB",
        "outputId": "87e5261b-a294-48c0-c127-5322dbc26945"
      },
      "outputs": [
        {
          "data": {
            "text/plain": [
              "{'a': ['apple', 'atom'], 'b': ['bat', 'bar', 'book']}"
            ]
          },
          "execution_count": 3,
          "metadata": {},
          "output_type": "execute_result"
        }
      ],
      "source": [
        "\n",
        "words = [\"apple\", \"bat\", \"bar\", \"atom\", \"book\"]\n",
        "#words\n",
        "by_letter = {}\n",
        "\n",
        "for word in words:\n",
        "    letter = word[0]\n",
        "    if letter not in by_letter:\n",
        "        by_letter[letter] = [word]\n",
        "    else:\n",
        "        by_letter[letter].append(word)\n",
        "\n",
        "by_letter"
      ]
    },
    {
      "cell_type": "code",
      "execution_count": 24,
      "metadata": {
        "colab": {
          "base_uri": "https://localhost:8080/"
        },
        "id": "R-ZZh-XrGioB",
        "outputId": "dbe21f2f-b0f6-4ce3-ec29-818c0021d51a"
      },
      "outputs": [
        {
          "data": {
            "text/plain": [
              "defaultdict(list,\n",
              "            {'a': ['apple', 'atom'],\n",
              "             'b': ['bat', 'bar', 'book', 'book', 'book']})"
            ]
          },
          "execution_count": 24,
          "metadata": {},
          "output_type": "execute_result"
        }
      ],
      "source": [
        "### The setdefault dict method can be used to simplify this workflow. The preceding for loop can be rewritten as:\n",
        "\n",
        "for word in words:\n",
        "  letter = word[0]\n",
        "\n",
        "by_letter.setdefault(letter, []).append(word)\n",
        "\n",
        "by_letter"
      ]
    },
    {
      "cell_type": "markdown",
      "metadata": {
        "id": "mnwGKjMZXcSj"
      },
      "source": [
        "***iNote*** :The built-in ***collections*** module has a useful class, ***defaultdict***, which makes this even easier. To create one, you pass a type or function for\n",
        "generating the default value for each slot in the dict."
      ]
    },
    {
      "cell_type": "code",
      "execution_count": 25,
      "metadata": {
        "colab": {
          "base_uri": "https://localhost:8080/"
        },
        "id": "ZcBerQGkGioB",
        "outputId": "d06e9c6d-6b67-4299-82ec-945be00bc34f"
      },
      "outputs": [
        {
          "data": {
            "text/plain": [
              "defaultdict(list, {'a': ['apple', 'atom'], 'b': ['bat', 'bar', 'book']})"
            ]
          },
          "execution_count": 25,
          "metadata": {},
          "output_type": "execute_result"
        }
      ],
      "source": [
        "from collections import defaultdict\n",
        "\n",
        "by_letter = defaultdict(list)\n",
        "for word in words:\n",
        "    by_letter[word[0]].append(word)\n",
        "\n",
        "by_letter"
      ]
    },
    {
      "cell_type": "markdown",
      "metadata": {
        "id": "1JwqTMwI8W_h"
      },
      "source": [
        "**Valid dict key types**\n",
        "\n",
        "While the values of a dict can be any Python object, the keys generally have to be immutable objects like\n",
        "scalar types (int, float, string) or tuples (all the objects in the tuple need to be immutable, too). The technical term here is hashability.\n",
        "You can check whether an object is hashable (can be used as a key in a dict) with the hash function."
      ]
    },
    {
      "cell_type": "code",
      "execution_count": null,
      "metadata": {
        "colab": {
          "base_uri": "https://localhost:8080/"
        },
        "id": "Sx3wVeJlGioC",
        "outputId": "6b83301e-06cd-400d-d165-10c28d5ae075"
      },
      "outputs": [
        {
          "data": {
            "text/plain": [
              "-9209053662355515447"
            ]
          },
          "execution_count": 136,
          "metadata": {},
          "output_type": "execute_result"
        }
      ],
      "source": [
        "hash(\"string\")\n",
        "hash((1, 2, (2, 3)))\n",
        "#hash((1, 2, [2, 3])) # fails because lists are mutable"
      ]
    },
    {
      "cell_type": "markdown",
      "metadata": {
        "id": "j8ymB04G8sxb"
      },
      "source": [
        "To use a list as a key, one option is to convert it to a tuple, which can be hashed as long as its elements also can"
      ]
    },
    {
      "cell_type": "code",
      "execution_count": null,
      "metadata": {
        "colab": {
          "base_uri": "https://localhost:8080/"
        },
        "id": "nxxiqwCdGioC",
        "outputId": "cdf1cff5-fd5e-4ad6-a541-c84fcad047c5"
      },
      "outputs": [
        {
          "data": {
            "text/plain": [
              "{(1, 2, 3): 5}"
            ]
          },
          "execution_count": 137,
          "metadata": {},
          "output_type": "execute_result"
        }
      ],
      "source": [
        "d = {}\n",
        "d[tuple([1, 2, 3])] = 5\n",
        "d"
      ]
    },
    {
      "cell_type": "markdown",
      "metadata": {
        "id": "nnCo7vcsafIC"
      },
      "source": [
        "# **Set**\n",
        "A set is an unordered collection of unique elements. You can think of them like dict keys, but keys only, no values.\n",
        " A set is a collection which is unordered, unchangeable, and unindexed.\n",
        "\n",
        " *Note:* Set items are unchangeable, but you can remove items and add new items."
      ]
    },
    {
      "cell_type": "code",
      "execution_count": null,
      "metadata": {
        "colab": {
          "base_uri": "https://localhost:8080/"
        },
        "id": "X87aNoSgGioC",
        "outputId": "122145b4-ec45-4528-a0dc-0f8310331459"
      },
      "outputs": [
        {
          "data": {
            "text/plain": [
              "{1, 2, 3}"
            ]
          },
          "execution_count": 53,
          "metadata": {},
          "output_type": "execute_result"
        }
      ],
      "source": [
        "### A set can be created in two ways: via the set function or via a set literal with curly braces\n",
        "set([2, 2, 2, 1, 3, 3])\n",
        "#{2, 2, 2, 1, 3, 3}"
      ]
    },
    {
      "cell_type": "code",
      "execution_count": null,
      "metadata": {
        "colab": {
          "base_uri": "https://localhost:8080/"
        },
        "id": "iWM9TJcNGioC",
        "outputId": "245717c2-88ff-455d-e8dd-0df7fb658b0b"
      },
      "outputs": [
        {
          "data": {
            "text/plain": [
              "{3, 4, 5, 6, 7, 8}"
            ]
          },
          "execution_count": 55,
          "metadata": {},
          "output_type": "execute_result"
        }
      ],
      "source": [
        "a = {1, 2, 3, 4, 5}\n",
        "b = {3, 4, 5, 6, 7, 8}\n",
        "a\n",
        "b"
      ]
    },
    {
      "cell_type": "code",
      "execution_count": null,
      "metadata": {
        "colab": {
          "base_uri": "https://localhost:8080/"
        },
        "id": "yIfXe22qGioD",
        "outputId": "5fafbde6-f325-42fa-e0d7-5ecd949ac387"
      },
      "outputs": [
        {
          "data": {
            "text/plain": [
              "{1, 2, 3, 4, 5, 6, 7, 8}"
            ]
          },
          "execution_count": 57,
          "metadata": {},
          "output_type": "execute_result"
        }
      ],
      "source": [
        "### The union of these two sets is the set of distinct elements occurring in either set.\n",
        "### This can be computed with either the union method or the | binary operator\n",
        "\n",
        "#a.union(b)\n",
        "a | b"
      ]
    },
    {
      "cell_type": "code",
      "execution_count": null,
      "metadata": {
        "colab": {
          "base_uri": "https://localhost:8080/"
        },
        "id": "jD_PwPQvGioD",
        "outputId": "bc8bb57c-7380-4069-c215-ffd1f5c0c84d"
      },
      "outputs": [
        {
          "data": {
            "text/plain": [
              "{3, 4, 5}"
            ]
          },
          "execution_count": 59,
          "metadata": {},
          "output_type": "execute_result"
        }
      ],
      "source": [
        "### The intersection contains the elements occurring in both sets.\n",
        "### The & operator or the intersection method can be used\n",
        "\n",
        "#a.intersection(b)\n",
        "a & b"
      ]
    },
    {
      "cell_type": "code",
      "execution_count": null,
      "metadata": {
        "colab": {
          "base_uri": "https://localhost:8080/"
        },
        "id": "3wqPJrTNGioD",
        "outputId": "0f0fe82e-62ec-4d5a-98ed-22d8f2b031da"
      },
      "outputs": [
        {
          "data": {
            "text/plain": [
              "{1, 2, 3, 4, 5, 6, 7, 8}"
            ]
          },
          "execution_count": 61,
          "metadata": {},
          "output_type": "execute_result"
        }
      ],
      "source": [
        "### replace the contents of the set on the left side of the operation with the result, a more efficient way for large sets.\n",
        "\n",
        "c = a.copy()\n",
        "c |= b\n",
        "c\n",
        "#d = a.copy()\n",
        "#d &= b\n",
        "#d"
      ]
    },
    {
      "cell_type": "markdown",
      "metadata": {
        "id": "LoMygO4Tdvdm"
      },
      "source": [
        "Like a dict’s keys, a set’s elements generally must be **immutable**, and they must be **hashable** (which means that calling hash on a value\n",
        "does not raise an exception). In order to store list-like elements (or other mutable sequences) in a set, you can convert them to tuples."
      ]
    },
    {
      "cell_type": "code",
      "execution_count": null,
      "metadata": {
        "id": "BSrcF_P9GioE",
        "outputId": "dba7586b-7f29-4a72-a594-3b31c7d21ccf"
      },
      "outputs": [
        {
          "data": {
            "text/plain": [
              "{(1, 2, 3, 4)}"
            ]
          },
          "execution_count": 69,
          "metadata": {},
          "output_type": "execute_result"
        }
      ],
      "source": [
        "my_data = [1, 2, 3, 4]\n",
        "my_set = {tuple(my_data)}\n",
        "my_set"
      ]
    },
    {
      "cell_type": "code",
      "execution_count": null,
      "metadata": {
        "colab": {
          "base_uri": "https://localhost:8080/"
        },
        "id": "rp9oum6qGioE",
        "outputId": "2ce4bf22-5f03-427d-dbf9-2c2a2972da62"
      },
      "outputs": [
        {
          "data": {
            "text/plain": [
              "False"
            ]
          },
          "execution_count": 65,
          "metadata": {},
          "output_type": "execute_result"
        }
      ],
      "source": [
        "### You can also check if a set is a subset of (is contained in) or a superset of (contains all elements of) another set\n",
        "### Refer to book for list of Python set methods: add, clear, update etc.\n",
        "\n",
        "a_set = {1, 2, 3, 4, 5}\n",
        "{1, 2, 3, 7}.issubset(a_set)\n",
        "#a_set.issuperset({1, 2, 3})"
      ]
    },
    {
      "cell_type": "code",
      "execution_count": null,
      "metadata": {
        "colab": {
          "base_uri": "https://localhost:8080/"
        },
        "id": "pPBitOLkGioE",
        "outputId": "4f9a6d4b-1912-4bbe-d137-fc0f8e1ef327"
      },
      "outputs": [
        {
          "data": {
            "text/plain": [
              "False"
            ]
          },
          "execution_count": 67,
          "metadata": {},
          "output_type": "execute_result"
        }
      ],
      "source": [
        "### Sets are equal if and only if their contents are equal\n",
        "\n",
        "#{1, 2, 3} == {3, 2, 1}\n",
        "{0, 2, 3} == {3, 2, 1}"
      ]
    },
    {
      "cell_type": "markdown",
      "metadata": {
        "id": "09xxbowqg-h0"
      },
      "source": [
        "**Some more functions**"
      ]
    },
    {
      "cell_type": "code",
      "execution_count": null,
      "metadata": {
        "colab": {
          "base_uri": "https://localhost:8080/"
        },
        "id": "WFZAPg0gGioE",
        "outputId": "4b05d5af-08fa-4fe8-d0b6-a0fc6c3d969a"
      },
      "outputs": [
        {
          "data": {
            "text/plain": [
              "[0, 1, 2, 2, 3, 6, 7]"
            ]
          },
          "execution_count": 68,
          "metadata": {},
          "output_type": "execute_result"
        }
      ],
      "source": [
        "sorted([7, 1, 2, 6, 0, 3, 2])\n",
        "#sorted(\"horse race\")"
      ]
    },
    {
      "cell_type": "code",
      "execution_count": null,
      "metadata": {
        "colab": {
          "base_uri": "https://localhost:8080/"
        },
        "id": "Q3x79IIgGioF",
        "outputId": "0372c54d-7693-4e42-8e69-76bc28fd0c48"
      },
      "outputs": [
        {
          "data": {
            "text/plain": [
              "[('foo', 'one'), ('bar', 'two'), ('baz', 'three')]"
            ]
          },
          "execution_count": 69,
          "metadata": {},
          "output_type": "execute_result"
        }
      ],
      "source": [
        "seq1 = [\"foo\", \"bar\", \"baz\"]\n",
        "seq2 = [\"one\", \"two\", \"three\"]\n",
        "zipped = zip(seq1, seq2)\n",
        "list(zipped)"
      ]
    },
    {
      "cell_type": "code",
      "execution_count": null,
      "metadata": {
        "colab": {
          "base_uri": "https://localhost:8080/"
        },
        "id": "w9iOimlhGioF",
        "outputId": "48e2a545-b18e-47f4-f2d3-dcb03147389e"
      },
      "outputs": [
        {
          "data": {
            "text/plain": [
              "[('foo', 'one', False), ('bar', 'two', True)]"
            ]
          },
          "execution_count": 70,
          "metadata": {},
          "output_type": "execute_result"
        }
      ],
      "source": [
        "seq3 = [False, True]\n",
        "list(zip(seq1, seq2, seq3))"
      ]
    },
    {
      "cell_type": "code",
      "execution_count": null,
      "metadata": {
        "colab": {
          "base_uri": "https://localhost:8080/"
        },
        "id": "id4wLZ9uGioF",
        "outputId": "ce964119-470c-4977-9de3-737b31caad35"
      },
      "outputs": [
        {
          "name": "stdout",
          "output_type": "stream",
          "text": [
            "0: foo, one\n",
            "1: bar, two\n",
            "2: baz, three\n"
          ]
        }
      ],
      "source": [
        "\n",
        "for index, (a, b) in enumerate(zip(seq1, seq2)):\n",
        "    print(f\"{index}: {a}, {b}\")\n"
      ]
    },
    {
      "cell_type": "code",
      "execution_count": null,
      "metadata": {
        "colab": {
          "base_uri": "https://localhost:8080/"
        },
        "id": "voQfKqyXGioF",
        "outputId": "1aa7e8a1-9141-47bf-b359-5eb5e87abb1e"
      },
      "outputs": [
        {
          "data": {
            "text/plain": [
              "[9, 8, 7, 6, 5, 4, 3, 2, 1, 0]"
            ]
          },
          "execution_count": 74,
          "metadata": {},
          "output_type": "execute_result"
        }
      ],
      "source": [
        "list(reversed(range(10)))"
      ]
    },
    {
      "cell_type": "markdown",
      "metadata": {
        "id": "-4RwRAmZfU0x"
      },
      "source": [
        "**List, Set, and Dict Comprehensions**\n",
        "\n",
        "List comprehensions are are a convenient and widely-used Python language\n",
        "feature. They allow you to concisely form a new list by filtering the\n",
        "elements of a collection, transforming the elements passing the filter in one concise expression.\n",
        "\n",
        "syntax: [expr for val in collection if condition]"
      ]
    },
    {
      "cell_type": "code",
      "execution_count": null,
      "metadata": {
        "colab": {
          "base_uri": "https://localhost:8080/"
        },
        "id": "V4XOio4oGioF",
        "outputId": "64b09c11-3f83-4245-826c-2c7626414bb0"
      },
      "outputs": [
        {
          "data": {
            "text/plain": [
              "['BAT', 'CAR', 'DOVE', 'PYTHON']"
            ]
          },
          "execution_count": 75,
          "metadata": {},
          "output_type": "execute_result"
        }
      ],
      "source": [
        "### filter out strings with length 2 or less and also convert them to uppercase\n",
        "\n",
        "strings = [\"a\", \"as\", \"bat\", \"car\", \"dove\", \"python\"]\n",
        "[x.upper() for x in strings if len(x) > 2]"
      ]
    },
    {
      "cell_type": "markdown",
      "metadata": {
        "id": "agzfUEoei9az"
      },
      "source": [
        "***iNote*** :A set comprehension looks like the equivalent list comprehension except\n",
        "with curly braces instead of square brackets:\n",
        "\n",
        "set_comp = {*expr* for value in collection if *condition*}"
      ]
    },
    {
      "cell_type": "code",
      "execution_count": null,
      "metadata": {
        "colab": {
          "base_uri": "https://localhost:8080/"
        },
        "id": "V_pBBhqSGioF",
        "outputId": "731c679c-90fb-4c9e-e9c4-406385328731"
      },
      "outputs": [
        {
          "data": {
            "text/plain": [
              "{1, 2, 3, 4, 6}"
            ]
          },
          "execution_count": 76,
          "metadata": {},
          "output_type": "execute_result"
        }
      ],
      "source": [
        "### set comprehension\n",
        "unique_lengths = {len(x) for x in strings}\n",
        "unique_lengths"
      ]
    },
    {
      "cell_type": "code",
      "execution_count": null,
      "metadata": {
        "colab": {
          "base_uri": "https://localhost:8080/"
        },
        "id": "MtIhKQAgGioF",
        "outputId": "54525250-4e92-48d7-f87d-56c2a01adefd"
      },
      "outputs": [
        {
          "data": {
            "text/plain": [
              "{1, 2, 3, 4, 6}"
            ]
          },
          "execution_count": 77,
          "metadata": {},
          "output_type": "execute_result"
        }
      ],
      "source": [
        "### same as above using map function\n",
        "set(map(len, strings))"
      ]
    },
    {
      "cell_type": "code",
      "execution_count": null,
      "metadata": {
        "colab": {
          "base_uri": "https://localhost:8080/"
        },
        "id": "XdM9rSAsGioF",
        "outputId": "e920f0c6-5e91-4b69-9b75-881aabc38a28"
      },
      "outputs": [
        {
          "data": {
            "text/plain": [
              "{'a': 0, 'as': 1, 'bat': 2, 'car': 3, 'dove': 4, 'python': 5}"
            ]
          },
          "execution_count": 78,
          "metadata": {},
          "output_type": "execute_result"
        }
      ],
      "source": [
        "### create a lookup map of these strings to their locations in the list\n",
        "### strings = [\"a\", \"as\", \"bat\", \"car\", \"dove\", \"python\"]\n",
        "\n",
        "loc_mapping = {value: index for index, value in enumerate(strings)}\n",
        "loc_mapping"
      ]
    },
    {
      "cell_type": "markdown",
      "metadata": {
        "id": "N6aw4GMvfKnq"
      },
      "source": [
        "**Nested list comprehensions**"
      ]
    },
    {
      "cell_type": "code",
      "execution_count": null,
      "metadata": {
        "colab": {
          "base_uri": "https://localhost:8080/"
        },
        "id": "HEHgEy7nGioF",
        "outputId": "f92528c2-6ff5-4f81-9e07-81685ff56e05"
      },
      "outputs": [
        {
          "data": {
            "text/plain": [
              "[['John', 'Emily', 'Michael', 'Mary', 'Steven'],\n",
              " ['Maria', 'Juan', 'Javier', 'Natalia', 'Pilar']]"
            ]
          },
          "execution_count": 81,
          "metadata": {},
          "output_type": "execute_result"
        }
      ],
      "source": [
        "all_data = [[\"John\", \"Emily\", \"Michael\", \"Mary\", \"Steven\"],\n",
        "            [\"Maria\", \"Juan\", \"Javier\", \"Natalia\", \"Pilar\"]]\n",
        "all_data"
      ]
    },
    {
      "cell_type": "code",
      "execution_count": null,
      "metadata": {
        "colab": {
          "base_uri": "https://localhost:8080/"
        },
        "id": "Ck7ldQxfGioF",
        "outputId": "8ee2919d-f199-4def-b125-d2c0318a87a1"
      },
      "outputs": [
        {
          "data": {
            "text/plain": [
              "['Maria', 'Natalia']"
            ]
          },
          "execution_count": 82,
          "metadata": {},
          "output_type": "execute_result"
        }
      ],
      "source": [
        "### a single list containing all names with two or more a’s in them using for loop\n",
        "names_of_interest = []\n",
        "for names in all_data:\n",
        "    enough_as = [name for name in names if name.count(\"a\") >= 2]\n",
        "    names_of_interest.extend(enough_as)\n",
        "names_of_interest"
      ]
    },
    {
      "cell_type": "code",
      "execution_count": null,
      "metadata": {
        "colab": {
          "base_uri": "https://localhost:8080/"
        },
        "id": "cRpMEgUCGioF",
        "outputId": "5330d44c-9a8a-4e03-b97a-9840e294db36"
      },
      "outputs": [
        {
          "data": {
            "text/plain": [
              "['Maria', 'Natalia']"
            ]
          },
          "execution_count": 83,
          "metadata": {},
          "output_type": "execute_result"
        }
      ],
      "source": [
        "### a single nested list comprehension for the above\n",
        "result = [name for names in all_data for name in names\n",
        "          if name.count(\"a\") >= 2]\n",
        "result"
      ]
    },
    {
      "cell_type": "code",
      "execution_count": null,
      "metadata": {
        "colab": {
          "base_uri": "https://localhost:8080/"
        },
        "id": "z1cz5ZmjGioG",
        "outputId": "bcb87cc3-2e9d-455e-dd83-656b09043435"
      },
      "outputs": [
        {
          "data": {
            "text/plain": [
              "[1, 2, 3, 4, 5, 6, 7, 8, 9]"
            ]
          },
          "execution_count": 84,
          "metadata": {},
          "output_type": "execute_result"
        }
      ],
      "source": [
        "### “flatten” a list of tuples of integers into a simpl list of integers using list comprehension\n",
        "### The for parts of the list comprehension are arranged according to the order of nesting, and any filter condition is put at the end\n",
        "\n",
        "some_tuples = [(1, 2, 3), (4, 5, 6), (7, 8, 9)]\n",
        "flattened = [x for tup in some_tuples for x in tup]\n",
        "flattened"
      ]
    },
    {
      "cell_type": "code",
      "execution_count": null,
      "metadata": {
        "colab": {
          "base_uri": "https://localhost:8080/"
        },
        "id": "C9R42JAEGioG",
        "outputId": "3b3317eb-c201-4547-e122-8697a1a32d2f"
      },
      "outputs": [
        {
          "data": {
            "text/plain": [
              "[1, 2, 3, 4, 5, 6, 7, 8, 9]"
            ]
          },
          "execution_count": 86,
          "metadata": {},
          "output_type": "execute_result"
        }
      ],
      "source": [
        "### the order of the for expressions would be the same if you wrote a nested for loop instead of a list comprehension\n",
        "\n",
        "flattened = []\n",
        "\n",
        "for tup in some_tuples:\n",
        "    for x in tup:\n",
        "        flattened.append(x)\n",
        "flattened"
      ]
    },
    {
      "cell_type": "code",
      "execution_count": null,
      "metadata": {
        "colab": {
          "base_uri": "https://localhost:8080/"
        },
        "id": "MSs7IBQ1GioG",
        "outputId": "8553b66d-fb26-41dc-9381-51a56f391803"
      },
      "outputs": [
        {
          "data": {
            "text/plain": [
              "[[1, 2, 3], [4, 5, 6], [7, 8, 9]]"
            ]
          },
          "execution_count": 88,
          "metadata": {},
          "output_type": "execute_result"
        }
      ],
      "source": [
        "### a list comprehension inside a list comprehension, which is perfectly valid\n",
        "\n",
        "[[x for x in tup] for tup in some_tuples]"
      ]
    },
    {
      "cell_type": "markdown",
      "metadata": {
        "id": "7QpC5YqWNPK8"
      },
      "source": [
        "# **Functions**\n",
        "\n",
        "Functions are the primary and most important method of code organization and reuse in Python.\n",
        "\n",
        "Functions help make your code reusable and more readable by giving a name to a group of Python statements.\n",
        "    \n",
        "Functions are declared with the ***def*** keyword.\n",
        "\n",
        "A function contains a block of code with an optional use of the with the return keyword. When a line with **return** is reached, the value or expression after return is sent to the context where the function was called"
      ]
    },
    {
      "cell_type": "code",
      "execution_count": null,
      "metadata": {
        "id": "4WAv43h5GioG"
      },
      "outputs": [],
      "source": [
        "def my_function(x, y):\n",
        "    return x + y"
      ]
    },
    {
      "cell_type": "code",
      "execution_count": null,
      "metadata": {
        "colab": {
          "base_uri": "https://localhost:8080/"
        },
        "id": "02TyxTqrGioG",
        "outputId": "37b9f156-b4af-4078-8128-5b846f586b7e"
      },
      "outputs": [
        {
          "data": {
            "text/plain": [
              "3"
            ]
          },
          "execution_count": 92,
          "metadata": {},
          "output_type": "execute_result"
        }
      ],
      "source": [
        "my_function(1, 2)\n",
        "#result = my_function(1, 2)\n",
        "#result"
      ]
    },
    {
      "cell_type": "markdown",
      "metadata": {
        "id": "D6HGkI3rn-mq"
      },
      "source": [
        "***iNote*** : There is no issue with having multiple return statements. If Python reaches the end of a function without encountering a return statement, None is returned automatically."
      ]
    },
    {
      "cell_type": "code",
      "execution_count": null,
      "metadata": {
        "id": "_QefqqAeGioG",
        "outputId": "2f2e96d2-b824-49d4-eff7-46a398f384f4"
      },
      "outputs": [
        {
          "name": "stdout",
          "output_type": "stream",
          "text": [
            "hello!\n",
            "None\n"
          ]
        }
      ],
      "source": [
        "def function_without_return(x):\n",
        "    print(x)\n",
        "\n",
        "result = function_without_return(\"hello!\")\n",
        "print(result)"
      ]
    },
    {
      "cell_type": "markdown",
      "metadata": {
        "id": "iXG-m8dSpIOU"
      },
      "source": [
        "Each function can have **positional arguments** and **keyword argum**ents.\n",
        "\n",
        "Keyword arguments are most commonly used to specify ***default values*** or ***optional arguments***.\n",
        "\n",
        "In the preceding function,** x **and **y** are positional arguments while z is a keyword argument. This means that the function\n",
        "can be called in any of these ways:"
      ]
    },
    {
      "cell_type": "code",
      "execution_count": null,
      "metadata": {
        "id": "WOGl8WUlGioH"
      },
      "outputs": [],
      "source": [
        "### function defenition\n",
        "\n",
        "def my_function2(x, y, z=1.5):\n",
        "    if z > 1:\n",
        "        return z * (x + y)\n",
        "    else:\n",
        "        return z / (x + y)"
      ]
    },
    {
      "cell_type": "code",
      "execution_count": null,
      "metadata": {
        "colab": {
          "base_uri": "https://localhost:8080/"
        },
        "id": "Je62SXAJGioH",
        "outputId": "931e88b5-db83-44c8-8a1f-6680d289758e"
      },
      "outputs": [
        {
          "data": {
            "text/plain": [
              "45.0"
            ]
          },
          "execution_count": 97,
          "metadata": {},
          "output_type": "execute_result"
        }
      ],
      "source": [
        "### the function can be called in any of the following ways\n",
        "\n",
        "#my_function2(5, 6, z=0.7)\n",
        "#my_function2(3.14, 7, 3.5)\n",
        "my_function2(10, 20)\n",
        "#my_function2(x=10, y=20)  ### using keywords for passing positional arguments"
      ]
    },
    {
      "cell_type": "markdown",
      "metadata": {
        "id": "CBhkibBuqCDe"
      },
      "source": [
        "**Namespaces, Scope, and Local Functions**\n",
        "\n",
        "Functions can access variables created inside the function as well as those outside the function in higher (or even global) scopes. An alternative and more descriptive name describing a variable scope in Python is a namespace.\n",
        "\n",
        "Any variables that are assigned within a function by default are assigned to the local namespace. The local namespace is created when the function is called and immediately populated by the function’s arguments.\n",
        "After the function is finished, the local namespace is destroyed (with some exceptions that are outside the purview of this chapter)."
      ]
    },
    {
      "cell_type": "code",
      "execution_count": null,
      "metadata": {
        "id": "vAchtTfLqlQJ"
      },
      "outputs": [],
      "source": [
        "def func():\n",
        "  #global aa\n",
        "  aa = []\n",
        "  for i in range(5):\n",
        "    aa.append(i)\n",
        "    print(aa)"
      ]
    },
    {
      "cell_type": "code",
      "execution_count": null,
      "metadata": {
        "colab": {
          "base_uri": "https://localhost:8080/"
        },
        "id": "yiecIXaaq89d",
        "outputId": "f6d24648-2824-4a6c-9718-ad27f2dafbf1"
      },
      "outputs": [
        {
          "name": "stdout",
          "output_type": "stream",
          "text": [
            "[0]\n",
            "[0, 1]\n",
            "[0, 1, 2]\n",
            "[0, 1, 2, 3]\n",
            "[0, 1, 2, 3, 4]\n"
          ]
        }
      ],
      "source": [
        "func()\n",
        "#print(aa)"
      ]
    },
    {
      "cell_type": "code",
      "execution_count": null,
      "metadata": {
        "id": "ZYPwp7ISGioI"
      },
      "outputs": [],
      "source": [
        "at = []\n",
        "def func():\n",
        "    for i in range(5):\n",
        "        at.append(i)"
      ]
    },
    {
      "cell_type": "code",
      "execution_count": null,
      "metadata": {
        "colab": {
          "base_uri": "https://localhost:8080/"
        },
        "id": "9d5CCoiYGioI",
        "outputId": "34e64f0e-b5b8-4893-95e3-f68a556c40d0"
      },
      "outputs": [
        {
          "data": {
            "text/plain": [
              "[0, 1, 2, 3, 4]"
            ]
          },
          "execution_count": 122,
          "metadata": {},
          "output_type": "execute_result"
        }
      ],
      "source": [
        "### Each call to func will modify the list a\n",
        "\n",
        "func()\n",
        "at\n",
        "#func()\n",
        "#at"
      ]
    },
    {
      "cell_type": "markdown",
      "metadata": {
        "id": "89gRmUHZtBTg"
      },
      "source": [
        "Assigning variables outside of the function’s scope is possible, but those variables must be declared explicitly either using the global the global or\n",
        "nonlocal keywords.\n",
        "\n",
        "Nonlocal allows a function to modify variables defined in a higher level scope that is not global."
      ]
    },
    {
      "cell_type": "code",
      "execution_count": null,
      "metadata": {
        "colab": {
          "base_uri": "https://localhost:8080/"
        },
        "id": "Q4MhmfF7GioI",
        "outputId": "2d628ec4-7fec-4199-e49f-90d2f8e1c17b"
      },
      "outputs": [
        {
          "name": "stdout",
          "output_type": "stream",
          "text": [
            "[]\n"
          ]
        }
      ],
      "source": [
        "a = None\n",
        "def bind_a_variable():\n",
        "    global a\n",
        "    a = []\n",
        "bind_a_variable()\n",
        "print(a)"
      ]
    },
    {
      "cell_type": "markdown",
      "metadata": {
        "id": "-8srXN5zt4oS"
      },
      "source": [
        "**Functions are Objects**\n",
        "\n",
        "Since Python functions are objects, many constructs can be easily expressed that are difficult to do in other languages.\n",
        "\n",
        "Suppose we were doing some data cleaning and needed to apply a bunch of transformations to the following list of strings:"
      ]
    },
    {
      "cell_type": "code",
      "execution_count": null,
      "metadata": {
        "id": "5nmQCNy-GioJ"
      },
      "outputs": [],
      "source": [
        "states = [\"   Alabama \", \"Georgia!\", \"Georgia\", \"georgia\", \"FlOrIda\",\n",
        "          \"south   carolina##\", \"West virginia?\"]"
      ]
    },
    {
      "cell_type": "code",
      "execution_count": null,
      "metadata": {
        "id": "psjcHT4uGioJ"
      },
      "outputs": [],
      "source": [
        "### use built-in string methods along with the re standard library module for regular expressions\n",
        "\n",
        "import re\n",
        "\n",
        "def clean_strings(strings):\n",
        "    result = []\n",
        "    for value in strings:\n",
        "        value = value.strip()\n",
        "        value = re.sub(\"[!#?]\", \"\", value)\n",
        "        value = value.title()\n",
        "        result.append(value)\n",
        "    return result"
      ]
    },
    {
      "cell_type": "code",
      "execution_count": null,
      "metadata": {
        "colab": {
          "base_uri": "https://localhost:8080/"
        },
        "id": "k5GWuPpYGioJ",
        "outputId": "d02cbae0-ff7f-43ab-fd88-9a9bbb28ab91"
      },
      "outputs": [
        {
          "data": {
            "text/plain": [
              "['Alabama',\n",
              " 'Georgia',\n",
              " 'Georgia',\n",
              " 'Georgia',\n",
              " 'Florida',\n",
              " 'South   Carolina',\n",
              " 'West Virginia']"
            ]
          },
          "execution_count": 135,
          "metadata": {},
          "output_type": "execute_result"
        }
      ],
      "source": [
        "clean_strings(states)"
      ]
    },
    {
      "cell_type": "code",
      "execution_count": null,
      "metadata": {
        "id": "PIwhPiB-GioJ"
      },
      "outputs": [],
      "source": [
        "### An alternative approach is to make a list of the operations you want to apply to a particular set of strings\n",
        "\n",
        "def remove_punctuation(value):\n",
        "    return re.sub(\"[!#?]\", \"\", value)\n",
        "\n",
        "clean_ops = [str.strip, remove_punctuation, str.title]\n",
        "\n",
        "def clean_strings(strings, ops):\n",
        "    result = []\n",
        "    for value in strings:\n",
        "        for func in ops:\n",
        "            value = func(value)\n",
        "        result.append(value)\n",
        "    return result"
      ]
    },
    {
      "cell_type": "code",
      "execution_count": null,
      "metadata": {
        "colab": {
          "base_uri": "https://localhost:8080/"
        },
        "id": "WPag1J7hGioJ",
        "outputId": "baa963a9-f885-4c3d-b24c-e7b2f1a14a10"
      },
      "outputs": [
        {
          "data": {
            "text/plain": [
              "['Alabama',\n",
              " 'Georgia',\n",
              " 'Georgia',\n",
              " 'Georgia',\n",
              " 'Florida',\n",
              " 'South   Carolina',\n",
              " 'West Virginia']"
            ]
          },
          "execution_count": 137,
          "metadata": {},
          "output_type": "execute_result"
        }
      ],
      "source": [
        "clean_strings(states, clean_ops)"
      ]
    },
    {
      "cell_type": "code",
      "execution_count": null,
      "metadata": {
        "colab": {
          "base_uri": "https://localhost:8080/"
        },
        "id": "fVeeWayjGioK",
        "outputId": "94395b9f-3342-4c05-e048-5c026dd55820"
      },
      "outputs": [
        {
          "name": "stdout",
          "output_type": "stream",
          "text": [
            "   Alabama \n",
            "Georgia\n",
            "Georgia\n",
            "georgia\n",
            "FlOrIda\n",
            "south   carolina\n",
            "West virginia\n"
          ]
        }
      ],
      "source": [
        "### You can use functions as arguments to other functions like the built-in map function, which applies a function to a sequence operations\n",
        "for x in map(remove_punctuation, states):\n",
        "    print(x)"
      ]
    },
    {
      "cell_type": "markdown",
      "metadata": {
        "id": "eZeGDTfiNWO8"
      },
      "source": [
        "# **Anonymous (Lambda) Functions**\n",
        "\n",
        "Python has support for so-called *anonymous* or *lambda* functions, which are a way of writing functions consisting of a single statement, the result of\n",
        "which is the return value. They are defined with the ***lambda*** keyword, which has no meaning other than “we are declaring an anonymous function”"
      ]
    },
    {
      "cell_type": "code",
      "execution_count": null,
      "metadata": {
        "id": "klwOQfhgGioK"
      },
      "outputs": [],
      "source": [
        "def short_function(x):\n",
        "    return x * 2\n",
        "\n",
        "equiv_anon = lambda x: x * 2"
      ]
    },
    {
      "cell_type": "markdown",
      "metadata": {
        "id": "ajNXMgbs2SSf"
      },
      "source": [
        "***iNote*** : lambda functions are especially convenient in data analysis because, as you’ll see, there are many cases where data transformation functions will take functions as arguments.\n",
        "It’s often less typing (and clearer) to pass a lambda function as opposed to writing a full-out function declaration or even assigning the lambda function to a local variable. For example"
      ]
    },
    {
      "cell_type": "code",
      "execution_count": null,
      "metadata": {
        "colab": {
          "base_uri": "https://localhost:8080/"
        },
        "id": "Q5oyjEvRGioK",
        "outputId": "a91cd45d-9885-4bb3-9daf-9f16d42f9121"
      },
      "outputs": [
        {
          "data": {
            "text/plain": [
              "[8, 0, 2, 10, 12]"
            ]
          },
          "execution_count": 117,
          "metadata": {},
          "output_type": "execute_result"
        }
      ],
      "source": [
        "def apply_to_list(some_list, f):\n",
        "    return [f(x) for x in some_list]\n",
        "\n",
        "ints = [4, 0, 1, 5, 6]\n",
        "apply_to_list(ints, lambda x: x * 2)"
      ]
    },
    {
      "cell_type": "code",
      "execution_count": null,
      "metadata": {
        "id": "9MM0uY1FGioK"
      },
      "outputs": [],
      "source": [
        "strings = [\"foo\", \"card\", \"bar\", \"aaaa\", \"abab\"]"
      ]
    },
    {
      "cell_type": "code",
      "execution_count": null,
      "metadata": {
        "colab": {
          "base_uri": "https://localhost:8080/"
        },
        "id": "LYGjHvb-GioL",
        "outputId": "f6b8c78f-9724-4b2e-a7e3-35c28a5c7be8"
      },
      "outputs": [
        {
          "data": {
            "text/plain": [
              "['aaaa', 'foo', 'abab', 'bar', 'card']"
            ]
          },
          "execution_count": 123,
          "metadata": {},
          "output_type": "execute_result"
        }
      ],
      "source": [
        "### the list of words is sorted based on the number of unique characters in each word\n",
        "## lambda fn Counts the number of unique elements in the original element x\n",
        "strings.sort(key=lambda x: len(set(x)))\n",
        "strings"
      ]
    },
    {
      "cell_type": "markdown",
      "metadata": {
        "id": "-tt3_cN1Nd2U"
      },
      "source": [
        "# **Generators**"
      ]
    },
    {
      "cell_type": "markdown",
      "metadata": {
        "id": "xC86aBPmxEwq"
      },
      "source": [
        "Having a consistent way to iterate over sequences, like objects in a list or lines in a file, is an important Python feature.\n",
        "This is accomplished by means of the iterator protocol, a generic way to make objects iterable. For example, iterating over a dict yields the dict keys:"
      ]
    },
    {
      "cell_type": "code",
      "execution_count": null,
      "metadata": {
        "id": "P6P_rSzfGioL"
      },
      "outputs": [],
      "source": [
        "some_dict = {\"a\": 1, \"b\": 2, \"c\": 3}\n",
        "for key in some_dict:\n",
        "    print(key)"
      ]
    },
    {
      "cell_type": "markdown",
      "metadata": {
        "id": "rIetE_CUxIab"
      },
      "source": [
        "An ***iterator*** is any object that will yield objects to the Python interpreter when used in a context like a for loop. Most methods expecting a list or list-like object will also accept any iterable object. This includes built-in methods such as min, max, and sum, and type constructors like list and tuple:"
      ]
    },
    {
      "cell_type": "code",
      "execution_count": null,
      "metadata": {
        "id": "9lyoLDBVGioL"
      },
      "outputs": [],
      "source": [
        "dict_iterator = iter(some_dict)\n",
        "dict_iterator"
      ]
    },
    {
      "cell_type": "code",
      "execution_count": null,
      "metadata": {
        "id": "3XhcwMAPGioL"
      },
      "outputs": [],
      "source": [
        "list(dict_iterator)"
      ]
    },
    {
      "cell_type": "markdown",
      "metadata": {
        "id": "-CBZ7R4SxR4E"
      },
      "source": [
        "A ***generator*** is a convenient way, similar to writing a normal function, to construct a new iterable object. Whereas normal functions execute and return a single result at a time, generators return a sequence of multiple results lazily, pausing after each one until the next one is requested.\n",
        "To create a generator, use the ***yield*** keyword instead of ***return*** in a function:"
      ]
    },
    {
      "cell_type": "code",
      "execution_count": null,
      "metadata": {
        "id": "SBb3a9NTGioL"
      },
      "outputs": [],
      "source": [
        "def squares(n=10):\n",
        "    print(f\"Generating squares from 1 to {n ** 2}\")\n",
        "    for i in range(1, n + 1):\n",
        "        yield i ** 2"
      ]
    },
    {
      "cell_type": "code",
      "execution_count": null,
      "metadata": {
        "id": "O9lUoK88GioL"
      },
      "outputs": [],
      "source": [
        "gen = squares()\n",
        "gen"
      ]
    },
    {
      "cell_type": "code",
      "execution_count": null,
      "metadata": {
        "id": "suGdATIWGioM"
      },
      "outputs": [],
      "source": [
        "for x in gen:\n",
        "    print(x, end=\" \")"
      ]
    },
    {
      "cell_type": "markdown",
      "metadata": {
        "id": "gl4tuphKxb_v"
      },
      "source": [
        "**Generator expresssions**\n",
        "\n",
        "Another way to make a generator is by using a generator expression. This is a generator analogue to list, dict, and set comprehensions. To create one,\n",
        "enclose what would otherwise be a list comprehension within parentheses instead of brackets:"
      ]
    },
    {
      "cell_type": "code",
      "execution_count": null,
      "metadata": {
        "id": "TirZO0oRGioM"
      },
      "outputs": [],
      "source": [
        "gen = (x ** 2 for x in range(100))\n",
        "gen"
      ]
    },
    {
      "cell_type": "code",
      "execution_count": null,
      "metadata": {
        "colab": {
          "base_uri": "https://localhost:8080/"
        },
        "id": "HHotPFsDGioM",
        "outputId": "d0af9321-891c-4eab-e579-fe0cf93468b1"
      },
      "outputs": [
        {
          "data": {
            "text/plain": [
              "5"
            ]
          },
          "execution_count": 116,
          "metadata": {},
          "output_type": "execute_result"
        }
      ],
      "source": [
        "sum(x ** 2 for x in range(3))\n",
        "#dict((i, i ** 2) for i in range(5))"
      ]
    },
    {
      "cell_type": "markdown",
      "metadata": {
        "id": "YrE_CI1Axhcw"
      },
      "source": [
        "**itertools module**\n",
        "\n",
        "The standard library itertools module has a collection of generators for many common data algorithms. For example, groupby takes any sequence and a function, grouping consecutive elements in the sequence by\n",
        "return value of the function. Here’s an example:"
      ]
    },
    {
      "cell_type": "code",
      "execution_count": null,
      "metadata": {
        "id": "RXgQaAw1GioM"
      },
      "outputs": [],
      "source": [
        "import itertools\n",
        "def first_letter(x):\n",
        "    return x[0]\n",
        "\n",
        "names = [\"Alan\", \"Adam\", \"Wes\", \"Will\", \"Albert\", \"Steven\"]\n",
        "\n",
        "for letter, names in itertools.groupby(names, first_letter):\n",
        "    print(letter, list(names)) # names is a generator"
      ]
    },
    {
      "cell_type": "markdown",
      "metadata": {
        "id": "cAuTy01kx27g"
      },
      "source": [
        "**Errors and Exception Handling**\n",
        "\n",
        "Many functions only work on certain kinds of input. As an example, Python’s ***float*** function is capable of casting a string to a floating-point number, but fails with ***ValueError*** on improper inputs, for example:"
      ]
    },
    {
      "cell_type": "code",
      "execution_count": null,
      "metadata": {
        "id": "pAmGk1L0GioM"
      },
      "outputs": [],
      "source": [
        "float(\"1.2345\")\n",
        "#float(\"something\")"
      ]
    },
    {
      "cell_type": "markdown",
      "metadata": {
        "id": "wtkpVGYqyQJm"
      },
      "source": [
        "Suppose we wanted a version of float that fails gracefully, returning the input argument. We can do this by writing a function that encloses the call to ***float*** in a ***try/except*** block"
      ]
    },
    {
      "cell_type": "code",
      "execution_count": null,
      "metadata": {
        "id": "qePujhMcGioM"
      },
      "outputs": [],
      "source": [
        "def attempt_float(x):\n",
        "    try:\n",
        "        return float(x)\n",
        "    except:\n",
        "        return x"
      ]
    },
    {
      "cell_type": "code",
      "execution_count": null,
      "metadata": {
        "id": "G8obt-d-GioM"
      },
      "outputs": [],
      "source": [
        "attempt_float(\"1.2345\")\n",
        "attempt_float(\"something\")"
      ]
    },
    {
      "cell_type": "code",
      "execution_count": null,
      "metadata": {
        "id": "oV1YQhTuGioN"
      },
      "outputs": [],
      "source": [
        "float((1, 2))"
      ]
    },
    {
      "cell_type": "code",
      "execution_count": null,
      "metadata": {
        "id": "ecfPzD5BGioN"
      },
      "outputs": [],
      "source": [
        "def attempt_float(x):\n",
        "    try:\n",
        "        return float(x)\n",
        "    except ValueError:\n",
        "        return x"
      ]
    },
    {
      "cell_type": "code",
      "execution_count": null,
      "metadata": {
        "id": "LZ0cSQitGioN"
      },
      "outputs": [],
      "source": [
        "attempt_float((1, 2))"
      ]
    },
    {
      "cell_type": "code",
      "execution_count": null,
      "metadata": {
        "id": "68NVYWVdGioN"
      },
      "outputs": [],
      "source": [
        "def attempt_float(x):\n",
        "    try:\n",
        "        return float(x)\n",
        "    except (TypeError, ValueError):\n",
        "        return x"
      ]
    },
    {
      "cell_type": "code",
      "execution_count": null,
      "metadata": {
        "id": "bjakC2AYzGM6"
      },
      "outputs": [],
      "source": [
        "attempt_float((1, 2))"
      ]
    },
    {
      "cell_type": "markdown",
      "metadata": {
        "id": "tWL6TkjIOZGf"
      },
      "source": [
        "# **Files and the Operating System**\n",
        "\n",
        "To open a file for reading or writing, use the built-in open function with either a relative or absolute file path."
      ]
    },
    {
      "cell_type": "code",
      "execution_count": null,
      "metadata": {
        "colab": {
          "base_uri": "https://localhost:8080/"
        },
        "id": "GlXCQq0kGioN",
        "outputId": "47ae79fa-1577-487a-aa27-a6fb5c5046c3"
      },
      "outputs": [
        {
          "name": "stdout",
          "output_type": "stream",
          "text": [
            "Mounted at /content/drive\n"
          ]
        }
      ],
      "source": [
        "from google.colab import drive\n",
        "drive.mount('/content/drive',force_remount=True)\n",
        "path = \"/content/drive/My Drive/ColabNotebooks/first.txt\"\n",
        "f = open(path, encoding=\"utf-8\")"
      ]
    },
    {
      "cell_type": "markdown",
      "metadata": {
        "id": "80NOodswnZ9V"
      },
      "source": [
        "***iNote*** : By default, the file is opened in read-only mode 'r'. We can then treat the file handle f like a list and iterate over the lines.\n",
        "The lines come out of the file with the end-of-line (EOL) markers intact."
      ]
    },
    {
      "cell_type": "code",
      "execution_count": null,
      "metadata": {
        "colab": {
          "base_uri": "https://localhost:8080/"
        },
        "id": "p9gxgp5PGioO",
        "outputId": "50238c10-a60a-4c60-dc4a-90340d82a6f2"
      },
      "outputs": [
        {
          "data": {
            "text/plain": [
              "['1 2 3 4 5',\n",
              " 'Rajesh Gopakumar',\n",
              " 'This is a test file.',\n",
              " '1 2 3 4 5 6 7 8 9 10']"
            ]
          },
          "execution_count": 51,
          "metadata": {},
          "output_type": "execute_result"
        }
      ],
      "source": [
        "lines = [x.rstrip() for x in f]  ## open(path, encoding=\"utf-8\")\n",
        "lines"
      ]
    },
    {
      "cell_type": "markdown",
      "metadata": {
        "id": "Kb2q01MEoEdA"
      },
      "source": [
        "***iNote*** : When you use open to create file objects, it is recommended to close the file when you are finished with it. Closing the file releases its resources back to the operating system."
      ]
    },
    {
      "cell_type": "code",
      "execution_count": null,
      "metadata": {
        "id": "FHNJeBGyGioO"
      },
      "outputs": [],
      "source": [
        "f.close()"
      ]
    },
    {
      "cell_type": "markdown",
      "metadata": {
        "id": "Qge8V8hSoRBs"
      },
      "source": [
        "One of the ways to make it easier to clean up open files is to use the with statement. This will automatically close the file f when exiting the with block.\n",
        "Failing to ensure that files are closed will not cause problems in many small programs or scripts, but it can be an issue in programs that need to interact with a large number of files."
      ]
    },
    {
      "cell_type": "code",
      "execution_count": null,
      "metadata": {
        "colab": {
          "base_uri": "https://localhost:8080/"
        },
        "id": "B4AXPJvhGioO",
        "outputId": "b2619d85-7fc7-4f87-f526-8a849174d539"
      },
      "outputs": [
        {
          "data": {
            "text/plain": [
              "['1 2 3 4 5',\n",
              " 'Rajesh Gopakumar',\n",
              " 'This is a test file.',\n",
              " '1 2 3 4 5 6 7 8 9 10']"
            ]
          },
          "execution_count": 52,
          "metadata": {},
          "output_type": "execute_result"
        }
      ],
      "source": [
        "with open(path, encoding=\"utf-8\") as f:\n",
        "    lines = [x.rstrip() for x in f]\n",
        "lines"
      ]
    },
    {
      "cell_type": "markdown",
      "metadata": {
        "id": "smtZpGDKsxFk"
      },
      "source": [
        "***File open in \"w\" write mode, creates a file if not existing.***"
      ]
    },
    {
      "cell_type": "code",
      "execution_count": null,
      "metadata": {
        "id": "_QpIkVHuo26e"
      },
      "outputs": [],
      "source": [
        "paths = \"/content/drive/My Drive/ColabNotebooks/second.txt\"\n",
        "ff = open(paths, 'w', encoding=\"utf-8\")\n",
        "ff.write(\"This is a test file!\")\n",
        "ff.close()"
      ]
    },
    {
      "cell_type": "code",
      "execution_count": null,
      "metadata": {
        "colab": {
          "base_uri": "https://localhost:8080/"
        },
        "id": "4WvilR3Xp-T_",
        "outputId": "8518e4b2-2892-4066-95a6-3f4c91dfa017"
      },
      "outputs": [
        {
          "data": {
            "text/plain": [
              "['This is a test file!']"
            ]
          },
          "execution_count": 66,
          "metadata": {},
          "output_type": "execute_result"
        }
      ],
      "source": [
        "with open(paths, encoding=\"utf-8\") as f:\n",
        "    contents = [x.rstrip() for x in f]\n",
        "contents"
      ]
    },
    {
      "cell_type": "markdown",
      "metadata": {
        "id": "APMHDTpStCMg"
      },
      "source": [
        "***File open in \"r\" read mode (default mode)***"
      ]
    },
    {
      "cell_type": "code",
      "execution_count": null,
      "metadata": {
        "colab": {
          "base_uri": "https://localhost:8080/"
        },
        "id": "15yTUMF4rhM1",
        "outputId": "a27d92c6-31c6-4847-b642-aad0c5c1a14e"
      },
      "outputs": [
        {
          "name": "stdout",
          "output_type": "stream",
          "text": [
            "File content: \n",
            "This is a test file!\n",
            "\n"
          ]
        }
      ],
      "source": [
        "paths = \"/content/drive/My Drive/ColabNotebooks/second.txt\"\n",
        "file1 = open(paths, \"r\")\n",
        "print(\"File content: \")\n",
        "print(file1.read())\n",
        "print()\n",
        "file1.close()"
      ]
    },
    {
      "cell_type": "markdown",
      "metadata": {
        "id": "Nxtp6EI5tKUY"
      },
      "source": [
        "***File open in \"a\" append mode***"
      ]
    },
    {
      "cell_type": "code",
      "execution_count": null,
      "metadata": {
        "id": "sO4UhMpNqux9"
      },
      "outputs": [],
      "source": [
        "paths = \"/content/drive/My Drive/ColabNotebooks/second.txt\"\n",
        "ff = open(paths, 'a', encoding=\"utf-8\")\n",
        "ff.write(\" A new line appended!\")\n",
        "ff.close()"
      ]
    },
    {
      "cell_type": "code",
      "execution_count": null,
      "metadata": {
        "colab": {
          "base_uri": "https://localhost:8080/"
        },
        "id": "7mm8PMO4rWSz",
        "outputId": "62358bc5-c57f-48b1-d4a1-b07756a78c6f"
      },
      "outputs": [
        {
          "name": "stdout",
          "output_type": "stream",
          "text": [
            "File content after appending: \n",
            "This is a test file!A new line appended! A new line appended!\n",
            "\n"
          ]
        }
      ],
      "source": [
        "#paths = \"/content/drive/My Drive/ColabNotebooks/second.txt\"\n",
        "file1 = open(paths, \"r\")\n",
        "print(\"File content after appending: \")\n",
        "print(file1.read())\n",
        "print()\n",
        "file1.close()"
      ]
    },
    {
      "cell_type": "markdown",
      "metadata": {
        "id": "VP2SI3IgtlX_"
      },
      "source": [
        "For readable files, some of the most commonly used methods are ***read***, ***seek***, and ***tell***.\n",
        "\n",
        "***read*** returns a certain number of characters from the file. What constitutes a “character” is determined by the file’s encoding (e.g., UTF-8) or simply raw bytes if the file is opened in binary mode.\n",
        "\n",
        "The ***read*** method advances the file handle’s position by the number of bytes read."
      ]
    },
    {
      "cell_type": "code",
      "execution_count": null,
      "metadata": {
        "colab": {
          "base_uri": "https://localhost:8080/"
        },
        "id": "oDPCB6Z1GioO",
        "outputId": "7c524a0c-8d16-4750-91b8-c5e1aafc1b1f"
      },
      "outputs": [
        {
          "data": {
            "text/plain": [
              "b'This is a '"
            ]
          },
          "execution_count": 77,
          "metadata": {},
          "output_type": "execute_result"
        }
      ],
      "source": [
        "#f1 = open(paths)\n",
        "#f1.read(10)\n",
        "f2 = open(paths, mode=\"rb\")  # Binary mode\n",
        "f2.read(10)"
      ]
    },
    {
      "cell_type": "markdown",
      "metadata": {
        "id": "VqY5JFWlt7c1"
      },
      "source": [
        "***tell*** gives you the current position"
      ]
    },
    {
      "cell_type": "code",
      "execution_count": null,
      "metadata": {
        "colab": {
          "base_uri": "https://localhost:8080/"
        },
        "id": "p78pO3yaGioO",
        "outputId": "aca2e6e8-19c6-49c8-dd61-49c284431979"
      },
      "outputs": [
        {
          "data": {
            "text/plain": [
              "10"
            ]
          },
          "execution_count": 78,
          "metadata": {},
          "output_type": "execute_result"
        }
      ],
      "source": [
        "#f1.tell()\n",
        "f2.tell()"
      ]
    },
    {
      "cell_type": "code",
      "execution_count": null,
      "metadata": {
        "colab": {
          "base_uri": "https://localhost:8080/",
          "height": 36
        },
        "id": "IBGUqcj3GioO",
        "outputId": "467ee89d-35b9-4e5e-b5c6-6d2b7165ffd0"
      },
      "outputs": [
        {
          "data": {
            "application/vnd.google.colaboratory.intrinsic+json": {
              "type": "string"
            },
            "text/plain": [
              "'utf-8'"
            ]
          },
          "execution_count": 79,
          "metadata": {},
          "output_type": "execute_result"
        }
      ],
      "source": [
        "import sys\n",
        "sys.getdefaultencoding()"
      ]
    },
    {
      "cell_type": "markdown",
      "metadata": {
        "id": "UCSGJM-_ur4L"
      },
      "source": [
        "***seek*** changes the file position to the indicated byte in the file"
      ]
    },
    {
      "cell_type": "code",
      "execution_count": null,
      "metadata": {
        "colab": {
          "base_uri": "https://localhost:8080/"
        },
        "id": "Y8Lfjz5dGioO",
        "outputId": "0b3e4795-cb2d-4fdf-9f7f-47e091f0a138"
      },
      "outputs": [
        {
          "data": {
            "text/plain": [
              "61"
            ]
          },
          "execution_count": 86,
          "metadata": {},
          "output_type": "execute_result"
        }
      ],
      "source": [
        "f1.seek(3)\n",
        "f1.read()\n",
        "#f1.tell()"
      ]
    },
    {
      "cell_type": "code",
      "execution_count": null,
      "metadata": {
        "id": "BVNNqaRFGioO"
      },
      "outputs": [],
      "source": [
        "f1.close()\n",
        "f2.close()"
      ]
    },
    {
      "cell_type": "markdown",
      "metadata": {
        "id": "VJqvrizYv-WX"
      },
      "source": [
        "To write and read text to a file, you can use the file’s write or writelines or read or readlines methods."
      ]
    },
    {
      "cell_type": "code",
      "execution_count": null,
      "metadata": {
        "colab": {
          "base_uri": "https://localhost:8080/"
        },
        "id": "ysgr7KOAGioO",
        "outputId": "c5eed211-8316-42c7-ea11-cb7a0f76ce8e"
      },
      "outputs": [
        {
          "data": {
            "text/plain": [
              "['This is a test file!A new line appended! A new line appended!']"
            ]
          },
          "execution_count": 91,
          "metadata": {},
          "output_type": "execute_result"
        }
      ],
      "source": [
        "path\n",
        "\n",
        "with open(\"tmp.txt\", mode=\"w\") as handle:\n",
        "    handle.writelines(x for x in open(path) if len(x) > 1)\n",
        "\n",
        "with open(\"tmp.txt\") as f:\n",
        "    lines = f.readlines()\n",
        "\n",
        "lines"
      ]
    },
    {
      "cell_type": "markdown",
      "metadata": {
        "id": "q05HXREIw9Uv"
      },
      "source": []
    },
    {
      "cell_type": "markdown",
      "metadata": {
        "id": "dcevKwsBw9MA"
      },
      "source": []
    },
    {
      "cell_type": "code",
      "execution_count": null,
      "metadata": {
        "id": "W80fUHSOGioO"
      },
      "outputs": [],
      "source": [
        "import os\n",
        "os.remove(\"tmp.txt\")"
      ]
    },
    {
      "cell_type": "code",
      "execution_count": null,
      "metadata": {
        "colab": {
          "base_uri": "https://localhost:8080/"
        },
        "id": "ateKkgGcGioO",
        "outputId": "6d744717-0d2c-408c-8aab-67102c7f586e"
      },
      "outputs": [
        {
          "data": {
            "text/plain": [
              "10"
            ]
          },
          "execution_count": 90,
          "metadata": {},
          "output_type": "execute_result"
        }
      ],
      "source": [
        "with open(path) as f:\n",
        "    chars = f.read(10)\n",
        "\n",
        "chars\n",
        "len(chars)"
      ]
    },
    {
      "cell_type": "code",
      "execution_count": null,
      "metadata": {
        "id": "1c8ctylRGioP"
      },
      "outputs": [],
      "source": [
        "with open(path, mode=\"rb\") as f:\n",
        "    data = f.read(10)\n",
        "\n",
        "data"
      ]
    },
    {
      "cell_type": "code",
      "execution_count": null,
      "metadata": {
        "id": "-IXDWjinGioP"
      },
      "outputs": [],
      "source": [
        "data.decode(\"utf-8\")\n",
        "data[:4].decode(\"utf-8\")"
      ]
    },
    {
      "cell_type": "code",
      "execution_count": null,
      "metadata": {
        "id": "G1Mw38sPGioP"
      },
      "outputs": [],
      "source": [
        "sink_path = \"sink.txt\"\n",
        "with open(path) as source:\n",
        "    with open(sink_path, \"x\", encoding=\"iso-8859-1\") as sink:\n",
        "        sink.write(source.read())\n",
        "\n",
        "with open(sink_path, encoding=\"iso-8859-1\") as f:\n",
        "    print(f.read(10))"
      ]
    },
    {
      "cell_type": "code",
      "execution_count": null,
      "metadata": {
        "id": "og9Aa0waGioP"
      },
      "outputs": [],
      "source": [
        "os.remove(sink_path)"
      ]
    },
    {
      "cell_type": "code",
      "execution_count": null,
      "metadata": {
        "id": "yyIpkJ7VGioP"
      },
      "outputs": [],
      "source": [
        "f = open(path, encoding='utf-8')\n",
        "f.read(5)\n",
        "f.seek(4)\n",
        "f.read(1)\n",
        "f.close()"
      ]
    },
    {
      "cell_type": "code",
      "execution_count": null,
      "metadata": {
        "id": "Piqs7cmqGioP"
      },
      "outputs": [],
      "source": []
    }
  ],
  "metadata": {
    "colab": {
      "provenance": []
    },
    "kernelspec": {
      "display_name": "Python 3 (ipykernel)",
      "language": "python",
      "name": "python3"
    },
    "language_info": {
      "codemirror_mode": {
        "name": "ipython",
        "version": 3
      },
      "file_extension": ".py",
      "mimetype": "text/x-python",
      "name": "python",
      "nbconvert_exporter": "python",
      "pygments_lexer": "ipython3",
      "version": "3.12.7"
    }
  },
  "nbformat": 4,
  "nbformat_minor": 0
}
