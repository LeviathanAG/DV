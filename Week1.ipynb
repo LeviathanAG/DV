{
 "cells": [
  {
   "cell_type": "markdown",
   "id": "484165ab",
   "metadata": {},
   "source": [
    "# Week 1\n",
    "## Demo 1: Python Language Basics Exercises"
   ]
  },
  {
   "cell_type": "markdown",
   "id": "d44af776",
   "metadata": {},
   "source": [
    "**Name:** Satwik Hegde(PG-08)*<br>\n",
    "**Registration Number:** 240911676<br>\n",
    "**Date:** 21/01/2025"
   ]
  },
  {
   "cell_type": "code",
   "execution_count": 1,
   "id": "8f8e7b5b",
   "metadata": {},
   "outputs": [
    {
     "name": "stdout",
     "output_type": "stream",
     "text": [
      "Hello, World!\n"
     ]
    }
   ],
   "source": [
    "print('Hello, World!')"
   ]
  },
  {
   "cell_type": "code",
   "execution_count": 2,
   "id": "304382ec",
   "metadata": {},
   "outputs": [
    {
     "name": "stdout",
     "output_type": "stream",
     "text": [
      "5\n"
     ]
    }
   ],
   "source": [
    "# Scalar data types - Integer (int)\n",
    "x = 2\n",
    "y = 3\n",
    "z = x + y\n",
    "\n",
    "print(z)"
   ]
  },
  {
   "cell_type": "code",
   "execution_count": 3,
   "id": "5fc7bb57",
   "metadata": {},
   "outputs": [
    {
     "name": "stdout",
     "output_type": "stream",
     "text": [
      "0.6666666666666666\n",
      "0\n"
     ]
    }
   ],
   "source": [
    "# Mathematical operations\n",
    "print(x / y)\n",
    "print(x // y)"
   ]
  },
  {
   "cell_type": "code",
   "execution_count": 4,
   "id": "0003c958",
   "metadata": {},
   "outputs": [
    {
     "name": "stdout",
     "output_type": "stream",
     "text": [
      "0.34568\n"
     ]
    }
   ],
   "source": [
    "# Scalar data types - Floating point (float)\n",
    "fX = 0.345\n",
    "fY = 6.8e-4\n",
    "print(fX + fY)"
   ]
  },
  {
   "cell_type": "code",
   "execution_count": 5,
   "id": "54d9f892",
   "metadata": {},
   "outputs": [
    {
     "name": "stdout",
     "output_type": "stream",
     "text": [
      "String that spans\n",
      "Multiple Lines\n"
     ]
    },
    {
     "data": {
      "text/plain": [
       "1"
      ]
     },
     "execution_count": 5,
     "metadata": {},
     "output_type": "execute_result"
    }
   ],
   "source": [
    "# Scalar data types - String (str)\n",
    "strX = 'This is my first Python class'\n",
    "strY = \"\"\"String that spans\n",
    "Multiple Lines\"\"\"\n",
    "\n",
    "print(strY)\n",
    "strY.count(\"\\n\")"
   ]
  },
  {
   "cell_type": "code",
   "execution_count": 6,
   "id": "ad67fbd6",
   "metadata": {},
   "outputs": [
    {
     "data": {
      "text/plain": [
       "'This is my first Python demonstration'"
      ]
     },
     "execution_count": 6,
     "metadata": {},
     "output_type": "execute_result"
    }
   ],
   "source": [
    "# Strings are immutable\n",
    "strZ = strX.replace(\"class\", \"demonstration\")\n",
    "strZ"
   ]
  },
  {
   "cell_type": "code",
   "execution_count": 7,
   "id": "650bd769",
   "metadata": {},
   "outputs": [
    {
     "name": "stdout",
     "output_type": "stream",
     "text": [
      "<class 'bool'>\n"
     ]
    }
   ],
   "source": [
    "# Scalar data types - Boolean (bool)\n",
    "boolX = True\n",
    "boolY = False\n",
    "\n",
    "# Display general information about the variable\n",
    "print(type(boolX))"
   ]
  },
  {
   "cell_type": "code",
   "execution_count": 8,
   "id": "291efcac",
   "metadata": {},
   "outputs": [
    {
     "name": "stdout",
     "output_type": "stream",
     "text": [
      "<class 'int'>\n",
      "<class 'bool'>\n"
     ]
    }
   ],
   "source": [
    "# Type casting\n",
    "Int = 1\n",
    "boolZ = bool(Int)\n",
    "boolZ\n",
    "print(type(Int))\n",
    "print(type(boolZ))"
   ]
  },
  {
   "cell_type": "code",
   "execution_count": 9,
   "id": "0f223517",
   "metadata": {},
   "outputs": [],
   "source": [
    "# None is the null data type in Python\n",
    "def fn_add_maybe_multiply(a, b, c=None):\n",
    "    res = a + b\n",
    "    \n",
    "    if c is not None:\n",
    "        res *= c\n",
    "    \n",
    "    return res"
   ]
  },
  {
   "cell_type": "code",
   "execution_count": 10,
   "id": "d6a3c8fd",
   "metadata": {},
   "outputs": [
    {
     "data": {
      "text/plain": [
       "3"
      ]
     },
     "execution_count": 10,
     "metadata": {},
     "output_type": "execute_result"
    },
    {
     "name": "stdout",
     "output_type": "stream",
     "text": [
      "\u001b[1;31mSignature:\u001b[0m \u001b[0mfn_add_maybe_multiply\u001b[0m\u001b[1;33m(\u001b[0m\u001b[0ma\u001b[0m\u001b[1;33m,\u001b[0m \u001b[0mb\u001b[0m\u001b[1;33m,\u001b[0m \u001b[0mc\u001b[0m\u001b[1;33m=\u001b[0m\u001b[1;32mNone\u001b[0m\u001b[1;33m)\u001b[0m\u001b[1;33m\u001b[0m\u001b[1;33m\u001b[0m\u001b[0m\n",
      "\u001b[1;31mDocstring:\u001b[0m <no docstring>\n",
      "\u001b[1;31mFile:\u001b[0m      c:\\users\\norma\\appdata\\local\\temp\\ipykernel_16748\\3000374696.py\n",
      "\u001b[1;31mType:\u001b[0m      function"
     ]
    }
   ],
   "source": [
    "fn_add_maybe_multiply?\n",
    "fn_add_maybe_multiply(1, 2, None)"
   ]
  },
  {
   "cell_type": "code",
   "execution_count": 11,
   "id": "9e3cb6b8",
   "metadata": {},
   "outputs": [
    {
     "name": "stdout",
     "output_type": "stream",
     "text": [
      "It's negative\n"
     ]
    }
   ],
   "source": [
    "# Control flow (if, elif, else)\n",
    "x = -5\n",
    "\n",
    "if x < 0:\n",
    "    print(\"It's negative\")"
   ]
  },
  {
   "cell_type": "code",
   "execution_count": 12,
   "id": "90afe811",
   "metadata": {},
   "outputs": [
    {
     "name": "stdout",
     "output_type": "stream",
     "text": [
      "Postive and greater than or equal to 5\n"
     ]
    }
   ],
   "source": [
    "x = 5\n",
    "\n",
    "if x < 0:\n",
    "    print(\"It's negative\")\n",
    "elif x == 0:\n",
    "    print(\"Equal to zero\")\n",
    "elif 0 < x < 5:\n",
    "    print(\"Positive but less than 5\")\n",
    "else:\n",
    "    print(\"Postive and greater than or equal to 5\")"
   ]
  },
  {
   "cell_type": "code",
   "execution_count": 13,
   "id": "3727d62b",
   "metadata": {},
   "outputs": [
    {
     "data": {
      "text/plain": [
       "12"
      ]
     },
     "execution_count": 13,
     "metadata": {},
     "output_type": "execute_result"
    }
   ],
   "source": [
    "# Loops (for)\n",
    "seqA = [1, 2, None, 4, None, 5]\n",
    "tot = 0\n",
    "\n",
    "for val in seqA:\n",
    "    if val is None:\n",
    "        continue\n",
    "    tot += val\n",
    "tot"
   ]
  },
  {
   "cell_type": "code",
   "execution_count": 14,
   "id": "875fb16f",
   "metadata": {},
   "outputs": [
    {
     "data": {
      "text/plain": [
       "13"
      ]
     },
     "execution_count": 14,
     "metadata": {},
     "output_type": "execute_result"
    }
   ],
   "source": [
    "# Loops (for)\n",
    "seqB = [1, 2, 0, 4, 6, 5, 2, 1]\n",
    "tot_until_5 = 0\n",
    "\n",
    "for val in seqB:\n",
    "    if val == 5:\n",
    "        break\n",
    "    tot_until_5 += val\n",
    "tot_until_5"
   ]
  },
  {
   "cell_type": "code",
   "execution_count": 15,
   "id": "f0c111ff",
   "metadata": {},
   "outputs": [
    {
     "data": {
      "text/plain": [
       "504"
      ]
     },
     "execution_count": 15,
     "metadata": {},
     "output_type": "execute_result"
    }
   ],
   "source": [
    "# Loops (while)\n",
    "x = 256\n",
    "total = 0\n",
    "\n",
    "while x > 0:\n",
    "    if total > 500:\n",
    "        break\n",
    "    total += x\n",
    "    x = x // 2\n",
    "total"
   ]
  },
  {
   "cell_type": "code",
   "execution_count": 16,
   "id": "c3d56136",
   "metadata": {},
   "outputs": [],
   "source": [
    "# pass is the \"do nothing\" statement in Python\n",
    "x = 0\n",
    "\n",
    "if x < 0:\n",
    "    print(\"negative!\")\n",
    "elif x == 0:\n",
    "    pass\n",
    "else:\n",
    "    print(\"positive!\")"
   ]
  },
  {
   "cell_type": "code",
   "execution_count": 17,
   "id": "c9b7b064",
   "metadata": {},
   "outputs": [
    {
     "data": {
      "text/plain": [
       "[0, 1, 2, 3, 4, 5, 6, 7, 8, 9]"
      ]
     },
     "execution_count": 17,
     "metadata": {},
     "output_type": "execute_result"
    }
   ],
   "source": [
    "# range() function\n",
    "list(range(10))"
   ]
  },
  {
   "cell_type": "code",
   "execution_count": 18,
   "id": "f8870ea0",
   "metadata": {},
   "outputs": [
    {
     "name": "stdout",
     "output_type": "stream",
     "text": [
      "1\n",
      "2\n",
      "3\n",
      "4\n"
     ]
    }
   ],
   "source": [
    "seq = [1, 2, 3, 4]\n",
    "\n",
    "for i in range(len(seq)):\n",
    "    print(seq[i])"
   ]
  },
  {
   "cell_type": "markdown",
   "id": "4aa14f9b",
   "metadata": {},
   "source": [
    "## Program 1\n",
    "Write a Python function to input two numbers and perform the calculator operations of (+, -, *, /)."
   ]
  },
  {
   "cell_type": "code",
   "execution_count": 19,
   "id": "005fa235",
   "metadata": {},
   "outputs": [],
   "source": [
    "def calc(x: float, y: float):\n",
    "    print(f\"{x} + {y} = {x + y}\")\n",
    "    print(f\"{x} - {y} = {x - y}\")\n",
    "    print(f\"{x} * {y} = {x * y}\")\n",
    "    print(f\"{x} / {y} = {x / y}\")"
   ]
  },
  {
   "cell_type": "code",
   "execution_count": 20,
   "id": "5bff81f0",
   "metadata": {},
   "outputs": [
    {
     "ename": "ValueError",
     "evalue": "could not convert string to float: ''",
     "output_type": "error",
     "traceback": [
      "\u001b[1;31m---------------------------------------------------------------------------\u001b[0m",
      "\u001b[1;31mValueError\u001b[0m                                Traceback (most recent call last)",
      "Cell \u001b[1;32mIn[20], line 1\u001b[0m\n\u001b[1;32m----> 1\u001b[0m x \u001b[38;5;241m=\u001b[39m \u001b[38;5;28;43mfloat\u001b[39;49m\u001b[43m(\u001b[49m\u001b[38;5;28;43minput\u001b[39;49m\u001b[43m(\u001b[49m\u001b[38;5;124;43m\"\u001b[39;49m\u001b[38;5;124;43mx: \u001b[39;49m\u001b[38;5;124;43m\"\u001b[39;49m\u001b[43m)\u001b[49m\u001b[43m)\u001b[49m\n\u001b[0;32m      2\u001b[0m y \u001b[38;5;241m=\u001b[39m \u001b[38;5;28mfloat\u001b[39m(\u001b[38;5;28minput\u001b[39m(\u001b[38;5;124m\"\u001b[39m\u001b[38;5;124my: \u001b[39m\u001b[38;5;124m\"\u001b[39m))\n\u001b[0;32m      3\u001b[0m calc(x, y)\n",
      "\u001b[1;31mValueError\u001b[0m: could not convert string to float: ''"
     ]
    }
   ],
   "source": [
    "x = float(input(\"x: \"))\n",
    "y = float(input(\"y: \"))\n",
    "calc(x, y)"
   ]
  },
  {
   "cell_type": "markdown",
   "id": "b2ccbf7a",
   "metadata": {},
   "source": [
    "## Program 2\n",
    "Write a Python function that takes an integer and returns ```True``` if it’s a prime number and ```False``` otherwise."
   ]
  },
  {
   "cell_type": "code",
   "execution_count": null,
   "id": "8410299f",
   "metadata": {},
   "outputs": [],
   "source": [
    "import math"
   ]
  },
  {
   "cell_type": "code",
   "execution_count": null,
   "id": "3192dd2a",
   "metadata": {},
   "outputs": [],
   "source": [
    "def is_prime(n: int) -> bool:\n",
    "    if n < 2:\n",
    "        return False\n",
    "    for i in range(2, int(math.sqrt(n))):\n",
    "        if n % i == 0: return False\n",
    "    return True"
   ]
  },
  {
   "cell_type": "code",
   "execution_count": null,
   "id": "95b62c3c",
   "metadata": {},
   "outputs": [
    {
     "name": "stdout",
     "output_type": "stream",
     "text": [
      "7 is a prime number\n"
     ]
    }
   ],
   "source": [
    "n = int(input(\"Enter a number: \"))\n",
    "\n",
    "if is_prime(n):\n",
    "    print(f\"{n} is a prime number\")\n",
    "\n",
    "else:\n",
    "    print(f\"{n} is a composite number\")"
   ]
  },
  {
   "cell_type": "markdown",
   "id": "896e3b1b",
   "metadata": {},
   "source": [
    "## Program 3\n",
    "Create a Python function that creates a sequence between 1 and 100 and prints all the odd numbers. Compute and display the sum of all the even numbers."
   ]
  },
  {
   "cell_type": "code",
   "execution_count": null,
   "id": "76e49fd4",
   "metadata": {},
   "outputs": [],
   "source": [
    "def print_odd():\n",
    "    sum = 0\n",
    "    for i in range(1, 101):\n",
    "        if i % 2 == 0:\n",
    "            sum += i\n",
    "        else:\n",
    "            print(i)\n",
    "    \n",
    "    print(f\"Sum of even numbers: {sum}\")"
   ]
  },
  {
   "cell_type": "code",
   "execution_count": null,
   "id": "ea7a0348",
   "metadata": {},
   "outputs": [
    {
     "name": "stdout",
     "output_type": "stream",
     "text": [
      "1\n",
      "3\n",
      "5\n",
      "7\n",
      "9\n",
      "11\n",
      "13\n",
      "15\n",
      "17\n",
      "19\n",
      "21\n",
      "23\n",
      "25\n",
      "27\n",
      "29\n",
      "31\n",
      "33\n",
      "35\n",
      "37\n",
      "39\n",
      "41\n",
      "43\n",
      "45\n",
      "47\n",
      "49\n",
      "51\n",
      "53\n",
      "55\n",
      "57\n",
      "59\n",
      "61\n",
      "63\n",
      "65\n",
      "67\n",
      "69\n",
      "71\n",
      "73\n",
      "75\n",
      "77\n",
      "79\n",
      "81\n",
      "83\n",
      "85\n",
      "87\n",
      "89\n",
      "91\n",
      "93\n",
      "95\n",
      "97\n",
      "99\n",
      "Sum of even numbers: 2550\n"
     ]
    }
   ],
   "source": [
    "print_odd()"
   ]
  },
  {
   "cell_type": "markdown",
   "id": "8cbf9238",
   "metadata": {},
   "source": [
    "## Program 4\n",
    "Write a Python function to add two elements and display the result. The elements can be of type ```int```, ```float``` or ```str```."
   ]
  },
  {
   "cell_type": "code",
   "execution_count": null,
   "id": "fd3c3d5b",
   "metadata": {},
   "outputs": [],
   "source": [
    "def add_elements(x, y):\n",
    "    if type(x) is str or type(y) is str:\n",
    "        return str(x) + str(y)\n",
    "    else:\n",
    "        return x + y"
   ]
  },
  {
   "cell_type": "code",
   "execution_count": null,
   "id": "def5cb5b",
   "metadata": {},
   "outputs": [
    {
     "data": {
      "text/plain": [
       "9.4"
      ]
     },
     "execution_count": 27,
     "metadata": {},
     "output_type": "execute_result"
    }
   ],
   "source": [
    "add_elements(6.4, 3)"
   ]
  },
  {
   "cell_type": "markdown",
   "id": "2970ee01",
   "metadata": {},
   "source": [
    "## Program 5\n",
    "Write a Python function that takes a string input from the user and counts the number of vowels and consonants in the string."
   ]
  },
  {
   "cell_type": "code",
   "execution_count": null,
   "id": "bd7780b5",
   "metadata": {},
   "outputs": [],
   "source": [
    "def countvc(string: str):\n",
    "    vowels = \"aeiou\"\n",
    "    consonants = \"bcdfghjklmnpqrstvwxyz\"\n",
    "    \n",
    "    vc = 0\n",
    "    cc = 0\n",
    "    \n",
    "    for i in string.lower():\n",
    "        if i in vowels:\n",
    "            vc += 1\n",
    "        elif i in consonants:\n",
    "            cc += 1\n",
    "        else:\n",
    "            pass\n",
    "    \n",
    "    print(f\"Vowels: {vc}\")\n",
    "    print(f\"Consonants: {cc}\")"
   ]
  },
  {
   "cell_type": "code",
   "execution_count": null,
   "id": "daeda4f4",
   "metadata": {},
   "outputs": [
    {
     "name": "stdout",
     "output_type": "stream",
     "text": [
      "Vowels: 3\n",
      "Consonants: 7\n"
     ]
    }
   ],
   "source": [
    "string = str(input(\"Enter a sentence: \"))\n",
    "countvc(string)"
   ]
  }
 ],
 "metadata": {
  "kernelspec": {
   "display_name": "Python 3",
   "language": "python",
   "name": "python3"
  },
  "language_info": {
   "codemirror_mode": {
    "name": "ipython",
    "version": 3
   },
   "file_extension": ".py",
   "mimetype": "text/x-python",
   "name": "python",
   "nbconvert_exporter": "python",
   "pygments_lexer": "ipython3",
   "version": "3.12.4"
  }
 },
 "nbformat": 4,
 "nbformat_minor": 5
}
