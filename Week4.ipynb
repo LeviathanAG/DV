{
 "cells": [
  {
   "cell_type": "markdown",
   "id": "c3c5da13",
   "metadata": {
    "id": "TeznF4kNGinj"
   },
   "source": [
    "# Week 4"
   ]
  },
  {
   "cell_type": "markdown",
   "id": "492b5879",
   "metadata": {},
   "source": [
    "**Name:**Satwik Hegde *(PG--8)*<br>\n",
    "**Registration Number:** 240911676<br>\n",
    "**Date:** 11/02/2025"
   ]
  },
  {
   "cell_type": "code",
   "execution_count": 6,
   "id": "2c1d9c7a",
   "metadata": {},
   "outputs": [],
   "source": [
    "import numpy as np\n",
    "import pandas as pd"
   ]
  },
  {
   "cell_type": "markdown",
   "id": "523050ca",
   "metadata": {},
   "source": [
    "# Program 1\n",
    "Create a ```Series``` from a list of integers representing daily temperatures (in Celsius) over a week. Assign index labels as day of the week."
   ]
  },
  {
   "cell_type": "code",
   "execution_count": 7,
   "id": "1872efdf",
   "metadata": {},
   "outputs": [
    {
     "data": {
      "text/plain": [
       "Monday       22\n",
       "Tuesday      29\n",
       "Wednesday     6\n",
       "Thursday     -5\n",
       "Friday        9\n",
       "Saturday     30\n",
       "Sunday        8\n",
       "dtype: int32"
      ]
     },
     "execution_count": 7,
     "metadata": {},
     "output_type": "execute_result"
    }
   ],
   "source": [
    "temps = np.random.randint(-10, 50, size=7)\n",
    "days = ['Monday', 'Tuesday', 'Wednesday', 'Thursday', 'Friday', 'Saturday', 'Sunday']\n",
    "temp_series = pd.Series(temps, index=days)\n",
    "temp_series"
   ]
  },
  {
   "cell_type": "markdown",
   "id": "a086b0b5",
   "metadata": {},
   "source": [
    "Find and print the average (mean) temperature for the week."
   ]
  },
  {
   "cell_type": "code",
   "execution_count": 8,
   "id": "917b2000",
   "metadata": {},
   "outputs": [
    {
     "name": "stdout",
     "output_type": "stream",
     "text": [
      "Mean temperature: 14.142857142857142\n"
     ]
    }
   ],
   "source": [
    "print(f\"Mean temperature: {np.mean(temp_series)}\")"
   ]
  },
  {
   "cell_type": "markdown",
   "id": "df5f3ed0",
   "metadata": {},
   "source": [
    "Identify and print the maximum and minimum temperatures and their respective days."
   ]
  },
  {
   "cell_type": "code",
   "execution_count": 9,
   "id": "ac94d04e",
   "metadata": {},
   "outputs": [
    {
     "name": "stdout",
     "output_type": "stream",
     "text": [
      "Maximum temperature: 30 on Saturday\n",
      "Minimum temperature: -5 on Thursday\n"
     ]
    }
   ],
   "source": [
    "print(f\"Maximum temperature: {np.max(temp_series)} on {temp_series.idxmax()}\")\n",
    "print(f\"Minimum temperature: {np.min(temp_series)} on {temp_series.idxmin()}\")"
   ]
  },
  {
   "cell_type": "markdown",
   "id": "7086dcaf",
   "metadata": {},
   "source": [
    "Display the temperatures greater than a specific value."
   ]
  },
  {
   "cell_type": "code",
   "execution_count": null,
   "id": "d9fb0eb8",
   "metadata": {},
   "outputs": [],
   "source": [
    "val = int(input(\"Enter a value: \"))\n",
    "greater = temp_series[temp_series > val]\n",
    "print(f\"Temperatures greater than {val}:\")\n",
    "greater"
   ]
  },
  {
   "cell_type": "markdown",
   "id": "9d1d5f3e",
   "metadata": {},
   "source": [
    "Convert all temperatures to Fahrenheit."
   ]
  },
  {
   "cell_type": "code",
   "execution_count": null,
   "id": "3d27385c",
   "metadata": {},
   "outputs": [
    {
     "name": "stdout",
     "output_type": "stream",
     "text": [
      "Temperatures in Fahrenheit:\n"
     ]
    },
    {
     "data": {
      "text/plain": [
       "Monday        89.6\n",
       "Tuesday       26.6\n",
       "Wednesday    111.2\n",
       "Thursday      96.8\n",
       "Friday       120.2\n",
       "Saturday     100.4\n",
       "Sunday        60.8\n",
       "dtype: float64"
      ]
     },
     "execution_count": 6,
     "metadata": {},
     "output_type": "execute_result"
    }
   ],
   "source": [
    "temp_series_f = (temp_series * 9/5) + 32\n",
    "print(\"Temperatures in Fahrenheit:\")\n",
    "temp_series_f"
   ]
  },
  {
   "cell_type": "markdown",
   "id": "90c7375d",
   "metadata": {},
   "source": [
    "Print the days had temperatures above the average."
   ]
  },
  {
   "cell_type": "code",
   "execution_count": null,
   "id": "58516754",
   "metadata": {},
   "outputs": [
    {
     "name": "stdout",
     "output_type": "stream",
     "text": [
      "Temperatures above average:\n"
     ]
    },
    {
     "data": {
      "text/plain": [
       "Monday       32\n",
       "Wednesday    44\n",
       "Thursday     36\n",
       "Friday       49\n",
       "Saturday     38\n",
       "dtype: int64"
      ]
     },
     "execution_count": 7,
     "metadata": {},
     "output_type": "execute_result"
    }
   ],
   "source": [
    "above_avg = temp_series[temp_series > np.mean(temp_series)]\n",
    "print(\"Temperatures above average:\")\n",
    "above_avg"
   ]
  },
  {
   "cell_type": "markdown",
   "id": "e50cac4e",
   "metadata": {},
   "source": [
    "# Program 2\n",
    "Create a data frame with details of 10 students and columns as Roll Number, Name, Gender, Marks1, Marks2, Marks3."
   ]
  },
  {
   "cell_type": "code",
   "execution_count": null,
   "id": "028d556e",
   "metadata": {},
   "outputs": [
    {
     "data": {
      "text/html": [
       "<div>\n",
       "<style scoped>\n",
       "    .dataframe tbody tr th:only-of-type {\n",
       "        vertical-align: middle;\n",
       "    }\n",
       "\n",
       "    .dataframe tbody tr th {\n",
       "        vertical-align: top;\n",
       "    }\n",
       "\n",
       "    .dataframe thead th {\n",
       "        text-align: right;\n",
       "    }\n",
       "</style>\n",
       "<table border=\"1\" class=\"dataframe\">\n",
       "  <thead>\n",
       "    <tr style=\"text-align: right;\">\n",
       "      <th></th>\n",
       "      <th>Name</th>\n",
       "      <th>Gender</th>\n",
       "      <th>Marks1</th>\n",
       "      <th>Marks2</th>\n",
       "      <th>Marks3</th>\n",
       "    </tr>\n",
       "    <tr>\n",
       "      <th>Roll No.</th>\n",
       "      <th></th>\n",
       "      <th></th>\n",
       "      <th></th>\n",
       "      <th></th>\n",
       "      <th></th>\n",
       "    </tr>\n",
       "  </thead>\n",
       "  <tbody>\n",
       "    <tr>\n",
       "      <th>1</th>\n",
       "      <td>fcmscwl</td>\n",
       "      <td>M</td>\n",
       "      <td>83</td>\n",
       "      <td>31</td>\n",
       "      <td>97</td>\n",
       "    </tr>\n",
       "    <tr>\n",
       "      <th>2</th>\n",
       "      <td>jxotvhy</td>\n",
       "      <td>M</td>\n",
       "      <td>37</td>\n",
       "      <td>97</td>\n",
       "      <td>98</td>\n",
       "    </tr>\n",
       "    <tr>\n",
       "      <th>3</th>\n",
       "      <td>dhuxfmd</td>\n",
       "      <td>M</td>\n",
       "      <td>76</td>\n",
       "      <td>42</td>\n",
       "      <td>43</td>\n",
       "    </tr>\n",
       "    <tr>\n",
       "      <th>4</th>\n",
       "      <td>eroyisa</td>\n",
       "      <td>M</td>\n",
       "      <td>80</td>\n",
       "      <td>28</td>\n",
       "      <td>18</td>\n",
       "    </tr>\n",
       "    <tr>\n",
       "      <th>5</th>\n",
       "      <td>qpqxkiq</td>\n",
       "      <td>M</td>\n",
       "      <td>23</td>\n",
       "      <td>51</td>\n",
       "      <td>53</td>\n",
       "    </tr>\n",
       "    <tr>\n",
       "      <th>6</th>\n",
       "      <td>mbkrwax</td>\n",
       "      <td>F</td>\n",
       "      <td>23</td>\n",
       "      <td>5</td>\n",
       "      <td>9</td>\n",
       "    </tr>\n",
       "    <tr>\n",
       "      <th>7</th>\n",
       "      <td>hgxyhgt</td>\n",
       "      <td>F</td>\n",
       "      <td>37</td>\n",
       "      <td>80</td>\n",
       "      <td>38</td>\n",
       "    </tr>\n",
       "    <tr>\n",
       "      <th>8</th>\n",
       "      <td>dlyozhq</td>\n",
       "      <td>F</td>\n",
       "      <td>4</td>\n",
       "      <td>65</td>\n",
       "      <td>25</td>\n",
       "    </tr>\n",
       "    <tr>\n",
       "      <th>9</th>\n",
       "      <td>tgflzwy</td>\n",
       "      <td>F</td>\n",
       "      <td>18</td>\n",
       "      <td>93</td>\n",
       "      <td>59</td>\n",
       "    </tr>\n",
       "    <tr>\n",
       "      <th>10</th>\n",
       "      <td>vjtiglu</td>\n",
       "      <td>F</td>\n",
       "      <td>7</td>\n",
       "      <td>20</td>\n",
       "      <td>21</td>\n",
       "    </tr>\n",
       "  </tbody>\n",
       "</table>\n",
       "</div>"
      ],
      "text/plain": [
       "             Name Gender  Marks1  Marks2  Marks3\n",
       "Roll No.                                        \n",
       "1         fcmscwl      M      83      31      97\n",
       "2         jxotvhy      M      37      97      98\n",
       "3         dhuxfmd      M      76      42      43\n",
       "4         eroyisa      M      80      28      18\n",
       "5         qpqxkiq      M      23      51      53\n",
       "6         mbkrwax      F      23       5       9\n",
       "7         hgxyhgt      F      37      80      38\n",
       "8         dlyozhq      F       4      65      25\n",
       "9         tgflzwy      F      18      93      59\n",
       "10        vjtiglu      F       7      20      21"
      ]
     },
     "execution_count": 8,
     "metadata": {},
     "output_type": "execute_result"
    }
   ],
   "source": [
    "import random\n",
    "import string\n",
    "\n",
    "def generate_random_name():\n",
    "    return ''.join(random.choices(string.ascii_lowercase, k=7))\n",
    "\n",
    "students = {\n",
    "    'Roll No.': list(range(1, 11)),\n",
    "    'Name': [generate_random_name() for _ in range(10)],\n",
    "    'Gender': np.random.choice(['M', 'F'], size=10),\n",
    "    'Marks1': np.random.randint(0, 100, size=10),\n",
    "    'Marks2': np.random.randint(0, 100, size=10),\n",
    "    'Marks3': np.random.randint(0, 100, size=10)\n",
    "}\n",
    "\n",
    "df = pd.DataFrame(data=students)\n",
    "df.set_index('Roll No.', inplace=True)\n",
    "df"
   ]
  },
  {
   "cell_type": "markdown",
   "id": "dea0e456",
   "metadata": {},
   "source": [
    "Create a new column with total marks."
   ]
  },
  {
   "cell_type": "code",
   "execution_count": null,
   "id": "4cad2389",
   "metadata": {},
   "outputs": [
    {
     "data": {
      "text/html": [
       "<div>\n",
       "<style scoped>\n",
       "    .dataframe tbody tr th:only-of-type {\n",
       "        vertical-align: middle;\n",
       "    }\n",
       "\n",
       "    .dataframe tbody tr th {\n",
       "        vertical-align: top;\n",
       "    }\n",
       "\n",
       "    .dataframe thead th {\n",
       "        text-align: right;\n",
       "    }\n",
       "</style>\n",
       "<table border=\"1\" class=\"dataframe\">\n",
       "  <thead>\n",
       "    <tr style=\"text-align: right;\">\n",
       "      <th></th>\n",
       "      <th>Name</th>\n",
       "      <th>Gender</th>\n",
       "      <th>Marks1</th>\n",
       "      <th>Marks2</th>\n",
       "      <th>Marks3</th>\n",
       "      <th>TotalMarks</th>\n",
       "    </tr>\n",
       "    <tr>\n",
       "      <th>Roll No.</th>\n",
       "      <th></th>\n",
       "      <th></th>\n",
       "      <th></th>\n",
       "      <th></th>\n",
       "      <th></th>\n",
       "      <th></th>\n",
       "    </tr>\n",
       "  </thead>\n",
       "  <tbody>\n",
       "    <tr>\n",
       "      <th>1</th>\n",
       "      <td>fcmscwl</td>\n",
       "      <td>M</td>\n",
       "      <td>83</td>\n",
       "      <td>31</td>\n",
       "      <td>97</td>\n",
       "      <td>211</td>\n",
       "    </tr>\n",
       "    <tr>\n",
       "      <th>2</th>\n",
       "      <td>jxotvhy</td>\n",
       "      <td>M</td>\n",
       "      <td>37</td>\n",
       "      <td>97</td>\n",
       "      <td>98</td>\n",
       "      <td>232</td>\n",
       "    </tr>\n",
       "    <tr>\n",
       "      <th>3</th>\n",
       "      <td>dhuxfmd</td>\n",
       "      <td>M</td>\n",
       "      <td>76</td>\n",
       "      <td>42</td>\n",
       "      <td>43</td>\n",
       "      <td>161</td>\n",
       "    </tr>\n",
       "    <tr>\n",
       "      <th>4</th>\n",
       "      <td>eroyisa</td>\n",
       "      <td>M</td>\n",
       "      <td>80</td>\n",
       "      <td>28</td>\n",
       "      <td>18</td>\n",
       "      <td>126</td>\n",
       "    </tr>\n",
       "    <tr>\n",
       "      <th>5</th>\n",
       "      <td>qpqxkiq</td>\n",
       "      <td>M</td>\n",
       "      <td>23</td>\n",
       "      <td>51</td>\n",
       "      <td>53</td>\n",
       "      <td>127</td>\n",
       "    </tr>\n",
       "    <tr>\n",
       "      <th>6</th>\n",
       "      <td>mbkrwax</td>\n",
       "      <td>F</td>\n",
       "      <td>23</td>\n",
       "      <td>5</td>\n",
       "      <td>9</td>\n",
       "      <td>37</td>\n",
       "    </tr>\n",
       "    <tr>\n",
       "      <th>7</th>\n",
       "      <td>hgxyhgt</td>\n",
       "      <td>F</td>\n",
       "      <td>37</td>\n",
       "      <td>80</td>\n",
       "      <td>38</td>\n",
       "      <td>155</td>\n",
       "    </tr>\n",
       "    <tr>\n",
       "      <th>8</th>\n",
       "      <td>dlyozhq</td>\n",
       "      <td>F</td>\n",
       "      <td>4</td>\n",
       "      <td>65</td>\n",
       "      <td>25</td>\n",
       "      <td>94</td>\n",
       "    </tr>\n",
       "    <tr>\n",
       "      <th>9</th>\n",
       "      <td>tgflzwy</td>\n",
       "      <td>F</td>\n",
       "      <td>18</td>\n",
       "      <td>93</td>\n",
       "      <td>59</td>\n",
       "      <td>170</td>\n",
       "    </tr>\n",
       "    <tr>\n",
       "      <th>10</th>\n",
       "      <td>vjtiglu</td>\n",
       "      <td>F</td>\n",
       "      <td>7</td>\n",
       "      <td>20</td>\n",
       "      <td>21</td>\n",
       "      <td>48</td>\n",
       "    </tr>\n",
       "  </tbody>\n",
       "</table>\n",
       "</div>"
      ],
      "text/plain": [
       "             Name Gender  Marks1  Marks2  Marks3  TotalMarks\n",
       "Roll No.                                                    \n",
       "1         fcmscwl      M      83      31      97         211\n",
       "2         jxotvhy      M      37      97      98         232\n",
       "3         dhuxfmd      M      76      42      43         161\n",
       "4         eroyisa      M      80      28      18         126\n",
       "5         qpqxkiq      M      23      51      53         127\n",
       "6         mbkrwax      F      23       5       9          37\n",
       "7         hgxyhgt      F      37      80      38         155\n",
       "8         dlyozhq      F       4      65      25          94\n",
       "9         tgflzwy      F      18      93      59         170\n",
       "10        vjtiglu      F       7      20      21          48"
      ]
     },
     "execution_count": 9,
     "metadata": {},
     "output_type": "execute_result"
    }
   ],
   "source": [
    "df['TotalMarks'] = df['Marks1'] + df['Marks2'] + df['Marks3']\n",
    "df"
   ]
  },
  {
   "cell_type": "markdown",
   "id": "449ca74b",
   "metadata": {},
   "source": [
    "Find the lowest marks in ```Marks1```."
   ]
  },
  {
   "cell_type": "code",
   "execution_count": null,
   "id": "ab1395be",
   "metadata": {},
   "outputs": [
    {
     "name": "stdout",
     "output_type": "stream",
     "text": [
      "Lowest marks in Marks1: 4\n"
     ]
    }
   ],
   "source": [
    "print(f\"Lowest marks in Marks1: {np.min(df['Marks1'])}\")"
   ]
  },
  {
   "cell_type": "markdown",
   "id": "69ace828",
   "metadata": {},
   "source": [
    "Find the Highest marks in ```Marks2```."
   ]
  },
  {
   "cell_type": "code",
   "execution_count": null,
   "id": "cfd0798f",
   "metadata": {},
   "outputs": [
    {
     "name": "stdout",
     "output_type": "stream",
     "text": [
      "Highest marks in Marks2: 97\n"
     ]
    }
   ],
   "source": [
    "print(f\"Highest marks in Marks2: {np.max(df['Marks2'])}\")"
   ]
  },
  {
   "cell_type": "markdown",
   "id": "e0c38639",
   "metadata": {},
   "source": [
    " Find the average marks in ```Marks3```."
   ]
  },
  {
   "cell_type": "code",
   "execution_count": null,
   "id": "8c7bb15b",
   "metadata": {},
   "outputs": [
    {
     "name": "stdout",
     "output_type": "stream",
     "text": [
      "Average marks in Marks3: 46.1\n"
     ]
    }
   ],
   "source": [
    "print(f\"Average marks in Marks3: {np.mean(df['Marks3'])}\")"
   ]
  },
  {
   "cell_type": "markdown",
   "id": "9c024849",
   "metadata": {},
   "source": [
    "Find student name with highest average."
   ]
  },
  {
   "cell_type": "code",
   "execution_count": null,
   "id": "4ee50bcd",
   "metadata": {},
   "outputs": [
    {
     "data": {
      "text/html": [
       "<div>\n",
       "<style scoped>\n",
       "    .dataframe tbody tr th:only-of-type {\n",
       "        vertical-align: middle;\n",
       "    }\n",
       "\n",
       "    .dataframe tbody tr th {\n",
       "        vertical-align: top;\n",
       "    }\n",
       "\n",
       "    .dataframe thead th {\n",
       "        text-align: right;\n",
       "    }\n",
       "</style>\n",
       "<table border=\"1\" class=\"dataframe\">\n",
       "  <thead>\n",
       "    <tr style=\"text-align: right;\">\n",
       "      <th></th>\n",
       "      <th>Name</th>\n",
       "      <th>Gender</th>\n",
       "      <th>Marks1</th>\n",
       "      <th>Marks2</th>\n",
       "      <th>Marks3</th>\n",
       "      <th>TotalMarks</th>\n",
       "      <th>Average</th>\n",
       "    </tr>\n",
       "    <tr>\n",
       "      <th>Roll No.</th>\n",
       "      <th></th>\n",
       "      <th></th>\n",
       "      <th></th>\n",
       "      <th></th>\n",
       "      <th></th>\n",
       "      <th></th>\n",
       "      <th></th>\n",
       "    </tr>\n",
       "  </thead>\n",
       "  <tbody>\n",
       "    <tr>\n",
       "      <th>1</th>\n",
       "      <td>fcmscwl</td>\n",
       "      <td>M</td>\n",
       "      <td>83</td>\n",
       "      <td>31</td>\n",
       "      <td>97</td>\n",
       "      <td>211</td>\n",
       "      <td>70.333333</td>\n",
       "    </tr>\n",
       "    <tr>\n",
       "      <th>2</th>\n",
       "      <td>jxotvhy</td>\n",
       "      <td>M</td>\n",
       "      <td>37</td>\n",
       "      <td>97</td>\n",
       "      <td>98</td>\n",
       "      <td>232</td>\n",
       "      <td>77.333333</td>\n",
       "    </tr>\n",
       "    <tr>\n",
       "      <th>3</th>\n",
       "      <td>dhuxfmd</td>\n",
       "      <td>M</td>\n",
       "      <td>76</td>\n",
       "      <td>42</td>\n",
       "      <td>43</td>\n",
       "      <td>161</td>\n",
       "      <td>53.666667</td>\n",
       "    </tr>\n",
       "    <tr>\n",
       "      <th>4</th>\n",
       "      <td>eroyisa</td>\n",
       "      <td>M</td>\n",
       "      <td>80</td>\n",
       "      <td>28</td>\n",
       "      <td>18</td>\n",
       "      <td>126</td>\n",
       "      <td>42.000000</td>\n",
       "    </tr>\n",
       "    <tr>\n",
       "      <th>5</th>\n",
       "      <td>qpqxkiq</td>\n",
       "      <td>M</td>\n",
       "      <td>23</td>\n",
       "      <td>51</td>\n",
       "      <td>53</td>\n",
       "      <td>127</td>\n",
       "      <td>42.333333</td>\n",
       "    </tr>\n",
       "    <tr>\n",
       "      <th>6</th>\n",
       "      <td>mbkrwax</td>\n",
       "      <td>F</td>\n",
       "      <td>23</td>\n",
       "      <td>5</td>\n",
       "      <td>9</td>\n",
       "      <td>37</td>\n",
       "      <td>12.333333</td>\n",
       "    </tr>\n",
       "    <tr>\n",
       "      <th>7</th>\n",
       "      <td>hgxyhgt</td>\n",
       "      <td>F</td>\n",
       "      <td>37</td>\n",
       "      <td>80</td>\n",
       "      <td>38</td>\n",
       "      <td>155</td>\n",
       "      <td>51.666667</td>\n",
       "    </tr>\n",
       "    <tr>\n",
       "      <th>8</th>\n",
       "      <td>dlyozhq</td>\n",
       "      <td>F</td>\n",
       "      <td>4</td>\n",
       "      <td>65</td>\n",
       "      <td>25</td>\n",
       "      <td>94</td>\n",
       "      <td>31.333333</td>\n",
       "    </tr>\n",
       "    <tr>\n",
       "      <th>9</th>\n",
       "      <td>tgflzwy</td>\n",
       "      <td>F</td>\n",
       "      <td>18</td>\n",
       "      <td>93</td>\n",
       "      <td>59</td>\n",
       "      <td>170</td>\n",
       "      <td>56.666667</td>\n",
       "    </tr>\n",
       "    <tr>\n",
       "      <th>10</th>\n",
       "      <td>vjtiglu</td>\n",
       "      <td>F</td>\n",
       "      <td>7</td>\n",
       "      <td>20</td>\n",
       "      <td>21</td>\n",
       "      <td>48</td>\n",
       "      <td>16.000000</td>\n",
       "    </tr>\n",
       "  </tbody>\n",
       "</table>\n",
       "</div>"
      ],
      "text/plain": [
       "             Name Gender  Marks1  Marks2  Marks3  TotalMarks    Average\n",
       "Roll No.                                                               \n",
       "1         fcmscwl      M      83      31      97         211  70.333333\n",
       "2         jxotvhy      M      37      97      98         232  77.333333\n",
       "3         dhuxfmd      M      76      42      43         161  53.666667\n",
       "4         eroyisa      M      80      28      18         126  42.000000\n",
       "5         qpqxkiq      M      23      51      53         127  42.333333\n",
       "6         mbkrwax      F      23       5       9          37  12.333333\n",
       "7         hgxyhgt      F      37      80      38         155  51.666667\n",
       "8         dlyozhq      F       4      65      25          94  31.333333\n",
       "9         tgflzwy      F      18      93      59         170  56.666667\n",
       "10        vjtiglu      F       7      20      21          48  16.000000"
      ]
     },
     "execution_count": 13,
     "metadata": {},
     "output_type": "execute_result"
    }
   ],
   "source": [
    "df['Average'] = df['TotalMarks'] / 3\n",
    "df"
   ]
  },
  {
   "cell_type": "code",
   "execution_count": null,
   "id": "846d7883",
   "metadata": {},
   "outputs": [
    {
     "name": "stdout",
     "output_type": "stream",
     "text": [
      "jxotvhy has the highest average of 77.33333333333333\n"
     ]
    }
   ],
   "source": [
    "print(f\"{df.loc[df['Average'].idxmax(), 'Name']} has the highest average of {df['Average'].max()}\")"
   ]
  },
  {
   "cell_type": "markdown",
   "id": "c767bdca",
   "metadata": {},
   "source": [
    "Find how many students failed in ```Marks2``` (<40)."
   ]
  },
  {
   "cell_type": "code",
   "execution_count": null,
   "id": "0eb08be8",
   "metadata": {},
   "outputs": [
    {
     "name": "stdout",
     "output_type": "stream",
     "text": [
      "Number of students failed in Marks2: 4\n"
     ]
    }
   ],
   "source": [
    "print(f\"Number of students failed in Marks2: {df[df['Marks2'] < 40].shape[0]}\")"
   ]
  }
 ],
 "metadata": {
  "kernelspec": {
   "display_name": "Python 3",
   "language": "python",
   "name": "python3"
  },
  "language_info": {
   "codemirror_mode": {
    "name": "ipython",
    "version": 3
   },
   "file_extension": ".py",
   "mimetype": "text/x-python",
   "name": "python",
   "nbconvert_exporter": "python",
   "pygments_lexer": "ipython3",
   "version": "3.12.4"
  }
 },
 "nbformat": 4,
 "nbformat_minor": 5
}
